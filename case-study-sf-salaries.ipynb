{
 "cells": [
  {
   "cell_type": "code",
   "execution_count": 1,
   "id": "8bb2ab5c",
   "metadata": {
    "_cell_guid": "b1076dfc-b9ad-4769-8c92-a6c4dae69d19",
    "_uuid": "8f2839f25d086af736a60e9eeb907d3b93b6e0e5",
    "execution": {
     "iopub.execute_input": "2023-03-05T23:34:07.108386Z",
     "iopub.status.busy": "2023-03-05T23:34:07.107958Z",
     "iopub.status.idle": "2023-03-05T23:34:07.117736Z",
     "shell.execute_reply": "2023-03-05T23:34:07.116775Z"
    },
    "papermill": {
     "duration": 0.026472,
     "end_time": "2023-03-05T23:34:07.120491",
     "exception": false,
     "start_time": "2023-03-05T23:34:07.094019",
     "status": "completed"
    },
    "tags": []
   },
   "outputs": [],
   "source": [
    "import pandas as pd \n",
    "import numpy as np"
   ]
  },
  {
   "cell_type": "code",
   "execution_count": 2,
   "id": "bbe193d4",
   "metadata": {
    "execution": {
     "iopub.execute_input": "2023-03-05T23:34:07.144644Z",
     "iopub.status.busy": "2023-03-05T23:34:07.143857Z",
     "iopub.status.idle": "2023-03-05T23:34:07.831554Z",
     "shell.execute_reply": "2023-03-05T23:34:07.830268Z"
    },
    "papermill": {
     "duration": 0.703543,
     "end_time": "2023-03-05T23:34:07.835105",
     "exception": false,
     "start_time": "2023-03-05T23:34:07.131562",
     "status": "completed"
    },
    "tags": []
   },
   "outputs": [
    {
     "name": "stderr",
     "output_type": "stream",
     "text": [
      "/opt/conda/lib/python3.7/site-packages/IPython/core/interactiveshell.py:3553: DtypeWarning: Columns (3,4,5,6,12) have mixed types.Specify dtype option on import or set low_memory=False.\n",
      "  exec(code_obj, self.user_global_ns, self.user_ns)\n"
     ]
    }
   ],
   "source": [
    "data = pd.read_csv('/kaggle/input/sf-salaries/Salaries.csv')"
   ]
  },
  {
   "cell_type": "markdown",
   "id": "437c37e2",
   "metadata": {
    "papermill": {
     "duration": 0.010755,
     "end_time": "2023-03-05T23:34:07.856880",
     "exception": false,
     "start_time": "2023-03-05T23:34:07.846125",
     "status": "completed"
    },
    "tags": []
   },
   "source": [
    "1.  Display Top 10 Rows of The Dataset"
   ]
  },
  {
   "cell_type": "code",
   "execution_count": 3,
   "id": "28b38761",
   "metadata": {
    "execution": {
     "iopub.execute_input": "2023-03-05T23:34:07.882167Z",
     "iopub.status.busy": "2023-03-05T23:34:07.881707Z",
     "iopub.status.idle": "2023-03-05T23:34:07.921017Z",
     "shell.execute_reply": "2023-03-05T23:34:07.919169Z"
    },
    "papermill": {
     "duration": 0.054322,
     "end_time": "2023-03-05T23:34:07.923768",
     "exception": false,
     "start_time": "2023-03-05T23:34:07.869446",
     "status": "completed"
    },
    "tags": []
   },
   "outputs": [
    {
     "data": {
      "text/html": [
       "<div>\n",
       "<style scoped>\n",
       "    .dataframe tbody tr th:only-of-type {\n",
       "        vertical-align: middle;\n",
       "    }\n",
       "\n",
       "    .dataframe tbody tr th {\n",
       "        vertical-align: top;\n",
       "    }\n",
       "\n",
       "    .dataframe thead th {\n",
       "        text-align: right;\n",
       "    }\n",
       "</style>\n",
       "<table border=\"1\" class=\"dataframe\">\n",
       "  <thead>\n",
       "    <tr style=\"text-align: right;\">\n",
       "      <th></th>\n",
       "      <th>Id</th>\n",
       "      <th>EmployeeName</th>\n",
       "      <th>JobTitle</th>\n",
       "      <th>BasePay</th>\n",
       "      <th>OvertimePay</th>\n",
       "      <th>OtherPay</th>\n",
       "      <th>Benefits</th>\n",
       "      <th>TotalPay</th>\n",
       "      <th>TotalPayBenefits</th>\n",
       "      <th>Year</th>\n",
       "      <th>Notes</th>\n",
       "      <th>Agency</th>\n",
       "      <th>Status</th>\n",
       "    </tr>\n",
       "  </thead>\n",
       "  <tbody>\n",
       "    <tr>\n",
       "      <th>0</th>\n",
       "      <td>1</td>\n",
       "      <td>NATHANIEL FORD</td>\n",
       "      <td>GENERAL MANAGER-METROPOLITAN TRANSIT AUTHORITY</td>\n",
       "      <td>167411.18</td>\n",
       "      <td>0.0</td>\n",
       "      <td>400184.25</td>\n",
       "      <td>NaN</td>\n",
       "      <td>567595.43</td>\n",
       "      <td>567595.43</td>\n",
       "      <td>2011</td>\n",
       "      <td>NaN</td>\n",
       "      <td>San Francisco</td>\n",
       "      <td>NaN</td>\n",
       "    </tr>\n",
       "    <tr>\n",
       "      <th>1</th>\n",
       "      <td>2</td>\n",
       "      <td>GARY JIMENEZ</td>\n",
       "      <td>CAPTAIN III (POLICE DEPARTMENT)</td>\n",
       "      <td>155966.02</td>\n",
       "      <td>245131.88</td>\n",
       "      <td>137811.38</td>\n",
       "      <td>NaN</td>\n",
       "      <td>538909.28</td>\n",
       "      <td>538909.28</td>\n",
       "      <td>2011</td>\n",
       "      <td>NaN</td>\n",
       "      <td>San Francisco</td>\n",
       "      <td>NaN</td>\n",
       "    </tr>\n",
       "    <tr>\n",
       "      <th>2</th>\n",
       "      <td>3</td>\n",
       "      <td>ALBERT PARDINI</td>\n",
       "      <td>CAPTAIN III (POLICE DEPARTMENT)</td>\n",
       "      <td>212739.13</td>\n",
       "      <td>106088.18</td>\n",
       "      <td>16452.6</td>\n",
       "      <td>NaN</td>\n",
       "      <td>335279.91</td>\n",
       "      <td>335279.91</td>\n",
       "      <td>2011</td>\n",
       "      <td>NaN</td>\n",
       "      <td>San Francisco</td>\n",
       "      <td>NaN</td>\n",
       "    </tr>\n",
       "    <tr>\n",
       "      <th>3</th>\n",
       "      <td>4</td>\n",
       "      <td>CHRISTOPHER CHONG</td>\n",
       "      <td>WIRE ROPE CABLE MAINTENANCE MECHANIC</td>\n",
       "      <td>77916.0</td>\n",
       "      <td>56120.71</td>\n",
       "      <td>198306.9</td>\n",
       "      <td>NaN</td>\n",
       "      <td>332343.61</td>\n",
       "      <td>332343.61</td>\n",
       "      <td>2011</td>\n",
       "      <td>NaN</td>\n",
       "      <td>San Francisco</td>\n",
       "      <td>NaN</td>\n",
       "    </tr>\n",
       "    <tr>\n",
       "      <th>4</th>\n",
       "      <td>5</td>\n",
       "      <td>PATRICK GARDNER</td>\n",
       "      <td>DEPUTY CHIEF OF DEPARTMENT,(FIRE DEPARTMENT)</td>\n",
       "      <td>134401.6</td>\n",
       "      <td>9737.0</td>\n",
       "      <td>182234.59</td>\n",
       "      <td>NaN</td>\n",
       "      <td>326373.19</td>\n",
       "      <td>326373.19</td>\n",
       "      <td>2011</td>\n",
       "      <td>NaN</td>\n",
       "      <td>San Francisco</td>\n",
       "      <td>NaN</td>\n",
       "    </tr>\n",
       "    <tr>\n",
       "      <th>5</th>\n",
       "      <td>6</td>\n",
       "      <td>DAVID SULLIVAN</td>\n",
       "      <td>ASSISTANT DEPUTY CHIEF II</td>\n",
       "      <td>118602.0</td>\n",
       "      <td>8601.0</td>\n",
       "      <td>189082.74</td>\n",
       "      <td>NaN</td>\n",
       "      <td>316285.74</td>\n",
       "      <td>316285.74</td>\n",
       "      <td>2011</td>\n",
       "      <td>NaN</td>\n",
       "      <td>San Francisco</td>\n",
       "      <td>NaN</td>\n",
       "    </tr>\n",
       "    <tr>\n",
       "      <th>6</th>\n",
       "      <td>7</td>\n",
       "      <td>ALSON LEE</td>\n",
       "      <td>BATTALION CHIEF, (FIRE DEPARTMENT)</td>\n",
       "      <td>92492.01</td>\n",
       "      <td>89062.9</td>\n",
       "      <td>134426.14</td>\n",
       "      <td>NaN</td>\n",
       "      <td>315981.05</td>\n",
       "      <td>315981.05</td>\n",
       "      <td>2011</td>\n",
       "      <td>NaN</td>\n",
       "      <td>San Francisco</td>\n",
       "      <td>NaN</td>\n",
       "    </tr>\n",
       "    <tr>\n",
       "      <th>7</th>\n",
       "      <td>8</td>\n",
       "      <td>DAVID KUSHNER</td>\n",
       "      <td>DEPUTY DIRECTOR OF INVESTMENTS</td>\n",
       "      <td>256576.96</td>\n",
       "      <td>0.0</td>\n",
       "      <td>51322.5</td>\n",
       "      <td>NaN</td>\n",
       "      <td>307899.46</td>\n",
       "      <td>307899.46</td>\n",
       "      <td>2011</td>\n",
       "      <td>NaN</td>\n",
       "      <td>San Francisco</td>\n",
       "      <td>NaN</td>\n",
       "    </tr>\n",
       "    <tr>\n",
       "      <th>8</th>\n",
       "      <td>9</td>\n",
       "      <td>MICHAEL MORRIS</td>\n",
       "      <td>BATTALION CHIEF, (FIRE DEPARTMENT)</td>\n",
       "      <td>176932.64</td>\n",
       "      <td>86362.68</td>\n",
       "      <td>40132.23</td>\n",
       "      <td>NaN</td>\n",
       "      <td>303427.55</td>\n",
       "      <td>303427.55</td>\n",
       "      <td>2011</td>\n",
       "      <td>NaN</td>\n",
       "      <td>San Francisco</td>\n",
       "      <td>NaN</td>\n",
       "    </tr>\n",
       "    <tr>\n",
       "      <th>9</th>\n",
       "      <td>10</td>\n",
       "      <td>JOANNE HAYES-WHITE</td>\n",
       "      <td>CHIEF OF DEPARTMENT, (FIRE DEPARTMENT)</td>\n",
       "      <td>285262.0</td>\n",
       "      <td>0.0</td>\n",
       "      <td>17115.73</td>\n",
       "      <td>NaN</td>\n",
       "      <td>302377.73</td>\n",
       "      <td>302377.73</td>\n",
       "      <td>2011</td>\n",
       "      <td>NaN</td>\n",
       "      <td>San Francisco</td>\n",
       "      <td>NaN</td>\n",
       "    </tr>\n",
       "  </tbody>\n",
       "</table>\n",
       "</div>"
      ],
      "text/plain": [
       "   Id        EmployeeName                                        JobTitle  \\\n",
       "0   1      NATHANIEL FORD  GENERAL MANAGER-METROPOLITAN TRANSIT AUTHORITY   \n",
       "1   2        GARY JIMENEZ                 CAPTAIN III (POLICE DEPARTMENT)   \n",
       "2   3      ALBERT PARDINI                 CAPTAIN III (POLICE DEPARTMENT)   \n",
       "3   4   CHRISTOPHER CHONG            WIRE ROPE CABLE MAINTENANCE MECHANIC   \n",
       "4   5     PATRICK GARDNER    DEPUTY CHIEF OF DEPARTMENT,(FIRE DEPARTMENT)   \n",
       "5   6      DAVID SULLIVAN                       ASSISTANT DEPUTY CHIEF II   \n",
       "6   7           ALSON LEE              BATTALION CHIEF, (FIRE DEPARTMENT)   \n",
       "7   8       DAVID KUSHNER                  DEPUTY DIRECTOR OF INVESTMENTS   \n",
       "8   9      MICHAEL MORRIS              BATTALION CHIEF, (FIRE DEPARTMENT)   \n",
       "9  10  JOANNE HAYES-WHITE          CHIEF OF DEPARTMENT, (FIRE DEPARTMENT)   \n",
       "\n",
       "     BasePay OvertimePay   OtherPay Benefits   TotalPay  TotalPayBenefits  \\\n",
       "0  167411.18         0.0  400184.25      NaN  567595.43         567595.43   \n",
       "1  155966.02   245131.88  137811.38      NaN  538909.28         538909.28   \n",
       "2  212739.13   106088.18    16452.6      NaN  335279.91         335279.91   \n",
       "3    77916.0    56120.71   198306.9      NaN  332343.61         332343.61   \n",
       "4   134401.6      9737.0  182234.59      NaN  326373.19         326373.19   \n",
       "5   118602.0      8601.0  189082.74      NaN  316285.74         316285.74   \n",
       "6   92492.01     89062.9  134426.14      NaN  315981.05         315981.05   \n",
       "7  256576.96         0.0    51322.5      NaN  307899.46         307899.46   \n",
       "8  176932.64    86362.68   40132.23      NaN  303427.55         303427.55   \n",
       "9   285262.0         0.0   17115.73      NaN  302377.73         302377.73   \n",
       "\n",
       "   Year  Notes         Agency Status  \n",
       "0  2011    NaN  San Francisco    NaN  \n",
       "1  2011    NaN  San Francisco    NaN  \n",
       "2  2011    NaN  San Francisco    NaN  \n",
       "3  2011    NaN  San Francisco    NaN  \n",
       "4  2011    NaN  San Francisco    NaN  \n",
       "5  2011    NaN  San Francisco    NaN  \n",
       "6  2011    NaN  San Francisco    NaN  \n",
       "7  2011    NaN  San Francisco    NaN  \n",
       "8  2011    NaN  San Francisco    NaN  \n",
       "9  2011    NaN  San Francisco    NaN  "
      ]
     },
     "execution_count": 3,
     "metadata": {},
     "output_type": "execute_result"
    }
   ],
   "source": [
    "data.head(10)"
   ]
  },
  {
   "cell_type": "markdown",
   "id": "03b80176",
   "metadata": {
    "papermill": {
     "duration": 0.011128,
     "end_time": "2023-03-05T23:34:07.946330",
     "exception": false,
     "start_time": "2023-03-05T23:34:07.935202",
     "status": "completed"
    },
    "tags": []
   },
   "source": [
    "2. Check Last 10 Rows of The Dataset"
   ]
  },
  {
   "cell_type": "code",
   "execution_count": 4,
   "id": "9a0d2c8a",
   "metadata": {
    "execution": {
     "iopub.execute_input": "2023-03-05T23:34:07.971639Z",
     "iopub.status.busy": "2023-03-05T23:34:07.971202Z",
     "iopub.status.idle": "2023-03-05T23:34:07.992668Z",
     "shell.execute_reply": "2023-03-05T23:34:07.991334Z"
    },
    "papermill": {
     "duration": 0.03789,
     "end_time": "2023-03-05T23:34:07.995475",
     "exception": false,
     "start_time": "2023-03-05T23:34:07.957585",
     "status": "completed"
    },
    "tags": []
   },
   "outputs": [
    {
     "data": {
      "text/html": [
       "<div>\n",
       "<style scoped>\n",
       "    .dataframe tbody tr th:only-of-type {\n",
       "        vertical-align: middle;\n",
       "    }\n",
       "\n",
       "    .dataframe tbody tr th {\n",
       "        vertical-align: top;\n",
       "    }\n",
       "\n",
       "    .dataframe thead th {\n",
       "        text-align: right;\n",
       "    }\n",
       "</style>\n",
       "<table border=\"1\" class=\"dataframe\">\n",
       "  <thead>\n",
       "    <tr style=\"text-align: right;\">\n",
       "      <th></th>\n",
       "      <th>Id</th>\n",
       "      <th>EmployeeName</th>\n",
       "      <th>JobTitle</th>\n",
       "      <th>BasePay</th>\n",
       "      <th>OvertimePay</th>\n",
       "      <th>OtherPay</th>\n",
       "      <th>Benefits</th>\n",
       "      <th>TotalPay</th>\n",
       "      <th>TotalPayBenefits</th>\n",
       "      <th>Year</th>\n",
       "      <th>Notes</th>\n",
       "      <th>Agency</th>\n",
       "      <th>Status</th>\n",
       "    </tr>\n",
       "  </thead>\n",
       "  <tbody>\n",
       "    <tr>\n",
       "      <th>148644</th>\n",
       "      <td>148645</td>\n",
       "      <td>Randy D Winn</td>\n",
       "      <td>Stationary Eng, Sewage Plant</td>\n",
       "      <td>0.00</td>\n",
       "      <td>0.00</td>\n",
       "      <td>0.00</td>\n",
       "      <td>0.00</td>\n",
       "      <td>0.00</td>\n",
       "      <td>0.00</td>\n",
       "      <td>2014</td>\n",
       "      <td>NaN</td>\n",
       "      <td>San Francisco</td>\n",
       "      <td>PT</td>\n",
       "    </tr>\n",
       "    <tr>\n",
       "      <th>148645</th>\n",
       "      <td>148646</td>\n",
       "      <td>Carolyn A Wilson</td>\n",
       "      <td>Human Services Technician</td>\n",
       "      <td>0.00</td>\n",
       "      <td>0.00</td>\n",
       "      <td>0.00</td>\n",
       "      <td>0.00</td>\n",
       "      <td>0.00</td>\n",
       "      <td>0.00</td>\n",
       "      <td>2014</td>\n",
       "      <td>NaN</td>\n",
       "      <td>San Francisco</td>\n",
       "      <td>PT</td>\n",
       "    </tr>\n",
       "    <tr>\n",
       "      <th>148646</th>\n",
       "      <td>148647</td>\n",
       "      <td>Not provided</td>\n",
       "      <td>Not provided</td>\n",
       "      <td>Not Provided</td>\n",
       "      <td>Not Provided</td>\n",
       "      <td>Not Provided</td>\n",
       "      <td>Not Provided</td>\n",
       "      <td>0.00</td>\n",
       "      <td>0.00</td>\n",
       "      <td>2014</td>\n",
       "      <td>NaN</td>\n",
       "      <td>San Francisco</td>\n",
       "      <td>NaN</td>\n",
       "    </tr>\n",
       "    <tr>\n",
       "      <th>148647</th>\n",
       "      <td>148648</td>\n",
       "      <td>Joann Anderson</td>\n",
       "      <td>Communications Dispatcher 2</td>\n",
       "      <td>0.00</td>\n",
       "      <td>0.00</td>\n",
       "      <td>0.00</td>\n",
       "      <td>0.00</td>\n",
       "      <td>0.00</td>\n",
       "      <td>0.00</td>\n",
       "      <td>2014</td>\n",
       "      <td>NaN</td>\n",
       "      <td>San Francisco</td>\n",
       "      <td>PT</td>\n",
       "    </tr>\n",
       "    <tr>\n",
       "      <th>148648</th>\n",
       "      <td>148649</td>\n",
       "      <td>Leon Walker</td>\n",
       "      <td>Custodian</td>\n",
       "      <td>0.00</td>\n",
       "      <td>0.00</td>\n",
       "      <td>0.00</td>\n",
       "      <td>0.00</td>\n",
       "      <td>0.00</td>\n",
       "      <td>0.00</td>\n",
       "      <td>2014</td>\n",
       "      <td>NaN</td>\n",
       "      <td>San Francisco</td>\n",
       "      <td>PT</td>\n",
       "    </tr>\n",
       "    <tr>\n",
       "      <th>148649</th>\n",
       "      <td>148650</td>\n",
       "      <td>Roy I Tillery</td>\n",
       "      <td>Custodian</td>\n",
       "      <td>0.00</td>\n",
       "      <td>0.00</td>\n",
       "      <td>0.00</td>\n",
       "      <td>0.00</td>\n",
       "      <td>0.00</td>\n",
       "      <td>0.00</td>\n",
       "      <td>2014</td>\n",
       "      <td>NaN</td>\n",
       "      <td>San Francisco</td>\n",
       "      <td>PT</td>\n",
       "    </tr>\n",
       "    <tr>\n",
       "      <th>148650</th>\n",
       "      <td>148651</td>\n",
       "      <td>Not provided</td>\n",
       "      <td>Not provided</td>\n",
       "      <td>Not Provided</td>\n",
       "      <td>Not Provided</td>\n",
       "      <td>Not Provided</td>\n",
       "      <td>Not Provided</td>\n",
       "      <td>0.00</td>\n",
       "      <td>0.00</td>\n",
       "      <td>2014</td>\n",
       "      <td>NaN</td>\n",
       "      <td>San Francisco</td>\n",
       "      <td>NaN</td>\n",
       "    </tr>\n",
       "    <tr>\n",
       "      <th>148651</th>\n",
       "      <td>148652</td>\n",
       "      <td>Not provided</td>\n",
       "      <td>Not provided</td>\n",
       "      <td>Not Provided</td>\n",
       "      <td>Not Provided</td>\n",
       "      <td>Not Provided</td>\n",
       "      <td>Not Provided</td>\n",
       "      <td>0.00</td>\n",
       "      <td>0.00</td>\n",
       "      <td>2014</td>\n",
       "      <td>NaN</td>\n",
       "      <td>San Francisco</td>\n",
       "      <td>NaN</td>\n",
       "    </tr>\n",
       "    <tr>\n",
       "      <th>148652</th>\n",
       "      <td>148653</td>\n",
       "      <td>Not provided</td>\n",
       "      <td>Not provided</td>\n",
       "      <td>Not Provided</td>\n",
       "      <td>Not Provided</td>\n",
       "      <td>Not Provided</td>\n",
       "      <td>Not Provided</td>\n",
       "      <td>0.00</td>\n",
       "      <td>0.00</td>\n",
       "      <td>2014</td>\n",
       "      <td>NaN</td>\n",
       "      <td>San Francisco</td>\n",
       "      <td>NaN</td>\n",
       "    </tr>\n",
       "    <tr>\n",
       "      <th>148653</th>\n",
       "      <td>148654</td>\n",
       "      <td>Joe Lopez</td>\n",
       "      <td>Counselor, Log Cabin Ranch</td>\n",
       "      <td>0.00</td>\n",
       "      <td>0.00</td>\n",
       "      <td>-618.13</td>\n",
       "      <td>0.00</td>\n",
       "      <td>-618.13</td>\n",
       "      <td>-618.13</td>\n",
       "      <td>2014</td>\n",
       "      <td>NaN</td>\n",
       "      <td>San Francisco</td>\n",
       "      <td>PT</td>\n",
       "    </tr>\n",
       "  </tbody>\n",
       "</table>\n",
       "</div>"
      ],
      "text/plain": [
       "            Id      EmployeeName                      JobTitle       BasePay  \\\n",
       "148644  148645      Randy D Winn  Stationary Eng, Sewage Plant          0.00   \n",
       "148645  148646  Carolyn A Wilson     Human Services Technician          0.00   \n",
       "148646  148647      Not provided                  Not provided  Not Provided   \n",
       "148647  148648    Joann Anderson   Communications Dispatcher 2          0.00   \n",
       "148648  148649       Leon Walker                     Custodian          0.00   \n",
       "148649  148650     Roy I Tillery                     Custodian          0.00   \n",
       "148650  148651      Not provided                  Not provided  Not Provided   \n",
       "148651  148652      Not provided                  Not provided  Not Provided   \n",
       "148652  148653      Not provided                  Not provided  Not Provided   \n",
       "148653  148654         Joe Lopez    Counselor, Log Cabin Ranch          0.00   \n",
       "\n",
       "         OvertimePay      OtherPay      Benefits  TotalPay  TotalPayBenefits  \\\n",
       "148644          0.00          0.00          0.00      0.00              0.00   \n",
       "148645          0.00          0.00          0.00      0.00              0.00   \n",
       "148646  Not Provided  Not Provided  Not Provided      0.00              0.00   \n",
       "148647          0.00          0.00          0.00      0.00              0.00   \n",
       "148648          0.00          0.00          0.00      0.00              0.00   \n",
       "148649          0.00          0.00          0.00      0.00              0.00   \n",
       "148650  Not Provided  Not Provided  Not Provided      0.00              0.00   \n",
       "148651  Not Provided  Not Provided  Not Provided      0.00              0.00   \n",
       "148652  Not Provided  Not Provided  Not Provided      0.00              0.00   \n",
       "148653          0.00       -618.13          0.00   -618.13           -618.13   \n",
       "\n",
       "        Year  Notes         Agency Status  \n",
       "148644  2014    NaN  San Francisco     PT  \n",
       "148645  2014    NaN  San Francisco     PT  \n",
       "148646  2014    NaN  San Francisco    NaN  \n",
       "148647  2014    NaN  San Francisco     PT  \n",
       "148648  2014    NaN  San Francisco     PT  \n",
       "148649  2014    NaN  San Francisco     PT  \n",
       "148650  2014    NaN  San Francisco    NaN  \n",
       "148651  2014    NaN  San Francisco    NaN  \n",
       "148652  2014    NaN  San Francisco    NaN  \n",
       "148653  2014    NaN  San Francisco     PT  "
      ]
     },
     "execution_count": 4,
     "metadata": {},
     "output_type": "execute_result"
    }
   ],
   "source": [
    "data.tail(10)"
   ]
  },
  {
   "cell_type": "markdown",
   "id": "98d9409e",
   "metadata": {
    "papermill": {
     "duration": 0.011963,
     "end_time": "2023-03-05T23:34:08.019054",
     "exception": false,
     "start_time": "2023-03-05T23:34:08.007091",
     "status": "completed"
    },
    "tags": []
   },
   "source": [
    "3. Find Shape of Our Dataset (Number of Rows And Number of Columns)"
   ]
  },
  {
   "cell_type": "code",
   "execution_count": 5,
   "id": "3baa06c6",
   "metadata": {
    "execution": {
     "iopub.execute_input": "2023-03-05T23:34:08.044209Z",
     "iopub.status.busy": "2023-03-05T23:34:08.043769Z",
     "iopub.status.idle": "2023-03-05T23:34:08.050126Z",
     "shell.execute_reply": "2023-03-05T23:34:08.048746Z"
    },
    "papermill": {
     "duration": 0.022302,
     "end_time": "2023-03-05T23:34:08.052927",
     "exception": false,
     "start_time": "2023-03-05T23:34:08.030625",
     "status": "completed"
    },
    "tags": []
   },
   "outputs": [
    {
     "name": "stdout",
     "output_type": "stream",
     "text": [
      "Number of rows 148654\n",
      "Number of columns 13\n"
     ]
    }
   ],
   "source": [
    "data.shape\n",
    "print('Number of rows', data.shape[0])\n",
    "print('Number of columns', data.shape[1])"
   ]
  },
  {
   "cell_type": "markdown",
   "id": "2698b8e7",
   "metadata": {
    "papermill": {
     "duration": 0.011199,
     "end_time": "2023-03-05T23:34:08.076346",
     "exception": false,
     "start_time": "2023-03-05T23:34:08.065147",
     "status": "completed"
    },
    "tags": []
   },
   "source": [
    "4.  Getting Information About Our Dataset Like Total Number Rows, Total Number of Columns, Datatypes of Each Column And Memory Requirement"
   ]
  },
  {
   "cell_type": "code",
   "execution_count": 6,
   "id": "d39eb5dc",
   "metadata": {
    "execution": {
     "iopub.execute_input": "2023-03-05T23:34:08.103640Z",
     "iopub.status.busy": "2023-03-05T23:34:08.102313Z",
     "iopub.status.idle": "2023-03-05T23:34:08.185302Z",
     "shell.execute_reply": "2023-03-05T23:34:08.183493Z"
    },
    "papermill": {
     "duration": 0.100959,
     "end_time": "2023-03-05T23:34:08.189424",
     "exception": false,
     "start_time": "2023-03-05T23:34:08.088465",
     "status": "completed"
    },
    "tags": []
   },
   "outputs": [
    {
     "name": "stdout",
     "output_type": "stream",
     "text": [
      "<class 'pandas.core.frame.DataFrame'>\n",
      "RangeIndex: 148654 entries, 0 to 148653\n",
      "Data columns (total 13 columns):\n",
      " #   Column            Non-Null Count   Dtype  \n",
      "---  ------            --------------   -----  \n",
      " 0   Id                148654 non-null  int64  \n",
      " 1   EmployeeName      148654 non-null  object \n",
      " 2   JobTitle          148654 non-null  object \n",
      " 3   BasePay           148049 non-null  object \n",
      " 4   OvertimePay       148654 non-null  object \n",
      " 5   OtherPay          148654 non-null  object \n",
      " 6   Benefits          112495 non-null  object \n",
      " 7   TotalPay          148654 non-null  float64\n",
      " 8   TotalPayBenefits  148654 non-null  float64\n",
      " 9   Year              148654 non-null  int64  \n",
      " 10  Notes             0 non-null       float64\n",
      " 11  Agency            148654 non-null  object \n",
      " 12  Status            38119 non-null   object \n",
      "dtypes: float64(3), int64(2), object(8)\n",
      "memory usage: 14.7+ MB\n"
     ]
    }
   ],
   "source": [
    "data.info()"
   ]
  },
  {
   "cell_type": "code",
   "execution_count": 7,
   "id": "60c1e2cc",
   "metadata": {
    "execution": {
     "iopub.execute_input": "2023-03-05T23:34:08.216204Z",
     "iopub.status.busy": "2023-03-05T23:34:08.215246Z",
     "iopub.status.idle": "2023-03-05T23:34:08.444494Z",
     "shell.execute_reply": "2023-03-05T23:34:08.443254Z"
    },
    "papermill": {
     "duration": 0.245188,
     "end_time": "2023-03-05T23:34:08.447216",
     "exception": false,
     "start_time": "2023-03-05T23:34:08.202028",
     "status": "completed"
    },
    "tags": []
   },
   "outputs": [],
   "source": [
    "data = data.replace(['Not provided', 'Not Provided'], np.nan)"
   ]
  },
  {
   "cell_type": "code",
   "execution_count": 8,
   "id": "25d79f66",
   "metadata": {
    "execution": {
     "iopub.execute_input": "2023-03-05T23:34:08.472641Z",
     "iopub.status.busy": "2023-03-05T23:34:08.472201Z",
     "iopub.status.idle": "2023-03-05T23:34:08.498641Z",
     "shell.execute_reply": "2023-03-05T23:34:08.497672Z"
    },
    "papermill": {
     "duration": 0.04212,
     "end_time": "2023-03-05T23:34:08.501098",
     "exception": false,
     "start_time": "2023-03-05T23:34:08.458978",
     "status": "completed"
    },
    "tags": []
   },
   "outputs": [
    {
     "data": {
      "text/html": [
       "<div>\n",
       "<style scoped>\n",
       "    .dataframe tbody tr th:only-of-type {\n",
       "        vertical-align: middle;\n",
       "    }\n",
       "\n",
       "    .dataframe tbody tr th {\n",
       "        vertical-align: top;\n",
       "    }\n",
       "\n",
       "    .dataframe thead th {\n",
       "        text-align: right;\n",
       "    }\n",
       "</style>\n",
       "<table border=\"1\" class=\"dataframe\">\n",
       "  <thead>\n",
       "    <tr style=\"text-align: right;\">\n",
       "      <th></th>\n",
       "      <th>Id</th>\n",
       "      <th>EmployeeName</th>\n",
       "      <th>JobTitle</th>\n",
       "      <th>BasePay</th>\n",
       "      <th>OvertimePay</th>\n",
       "      <th>OtherPay</th>\n",
       "      <th>Benefits</th>\n",
       "      <th>TotalPay</th>\n",
       "      <th>TotalPayBenefits</th>\n",
       "      <th>Year</th>\n",
       "      <th>Notes</th>\n",
       "      <th>Agency</th>\n",
       "      <th>Status</th>\n",
       "    </tr>\n",
       "  </thead>\n",
       "  <tbody>\n",
       "    <tr>\n",
       "      <th>0</th>\n",
       "      <td>1</td>\n",
       "      <td>NATHANIEL FORD</td>\n",
       "      <td>GENERAL MANAGER-METROPOLITAN TRANSIT AUTHORITY</td>\n",
       "      <td>167411.18</td>\n",
       "      <td>0.0</td>\n",
       "      <td>400184.25</td>\n",
       "      <td>NaN</td>\n",
       "      <td>567595.43</td>\n",
       "      <td>567595.43</td>\n",
       "      <td>2011</td>\n",
       "      <td>NaN</td>\n",
       "      <td>San Francisco</td>\n",
       "      <td>NaN</td>\n",
       "    </tr>\n",
       "    <tr>\n",
       "      <th>1</th>\n",
       "      <td>2</td>\n",
       "      <td>GARY JIMENEZ</td>\n",
       "      <td>CAPTAIN III (POLICE DEPARTMENT)</td>\n",
       "      <td>155966.02</td>\n",
       "      <td>245131.88</td>\n",
       "      <td>137811.38</td>\n",
       "      <td>NaN</td>\n",
       "      <td>538909.28</td>\n",
       "      <td>538909.28</td>\n",
       "      <td>2011</td>\n",
       "      <td>NaN</td>\n",
       "      <td>San Francisco</td>\n",
       "      <td>NaN</td>\n",
       "    </tr>\n",
       "    <tr>\n",
       "      <th>2</th>\n",
       "      <td>3</td>\n",
       "      <td>ALBERT PARDINI</td>\n",
       "      <td>CAPTAIN III (POLICE DEPARTMENT)</td>\n",
       "      <td>212739.13</td>\n",
       "      <td>106088.18</td>\n",
       "      <td>16452.6</td>\n",
       "      <td>NaN</td>\n",
       "      <td>335279.91</td>\n",
       "      <td>335279.91</td>\n",
       "      <td>2011</td>\n",
       "      <td>NaN</td>\n",
       "      <td>San Francisco</td>\n",
       "      <td>NaN</td>\n",
       "    </tr>\n",
       "    <tr>\n",
       "      <th>3</th>\n",
       "      <td>4</td>\n",
       "      <td>CHRISTOPHER CHONG</td>\n",
       "      <td>WIRE ROPE CABLE MAINTENANCE MECHANIC</td>\n",
       "      <td>77916.0</td>\n",
       "      <td>56120.71</td>\n",
       "      <td>198306.9</td>\n",
       "      <td>NaN</td>\n",
       "      <td>332343.61</td>\n",
       "      <td>332343.61</td>\n",
       "      <td>2011</td>\n",
       "      <td>NaN</td>\n",
       "      <td>San Francisco</td>\n",
       "      <td>NaN</td>\n",
       "    </tr>\n",
       "    <tr>\n",
       "      <th>4</th>\n",
       "      <td>5</td>\n",
       "      <td>PATRICK GARDNER</td>\n",
       "      <td>DEPUTY CHIEF OF DEPARTMENT,(FIRE DEPARTMENT)</td>\n",
       "      <td>134401.6</td>\n",
       "      <td>9737.0</td>\n",
       "      <td>182234.59</td>\n",
       "      <td>NaN</td>\n",
       "      <td>326373.19</td>\n",
       "      <td>326373.19</td>\n",
       "      <td>2011</td>\n",
       "      <td>NaN</td>\n",
       "      <td>San Francisco</td>\n",
       "      <td>NaN</td>\n",
       "    </tr>\n",
       "    <tr>\n",
       "      <th>...</th>\n",
       "      <td>...</td>\n",
       "      <td>...</td>\n",
       "      <td>...</td>\n",
       "      <td>...</td>\n",
       "      <td>...</td>\n",
       "      <td>...</td>\n",
       "      <td>...</td>\n",
       "      <td>...</td>\n",
       "      <td>...</td>\n",
       "      <td>...</td>\n",
       "      <td>...</td>\n",
       "      <td>...</td>\n",
       "      <td>...</td>\n",
       "    </tr>\n",
       "    <tr>\n",
       "      <th>148649</th>\n",
       "      <td>148650</td>\n",
       "      <td>Roy I Tillery</td>\n",
       "      <td>Custodian</td>\n",
       "      <td>0.00</td>\n",
       "      <td>0.00</td>\n",
       "      <td>0.00</td>\n",
       "      <td>0.00</td>\n",
       "      <td>0.00</td>\n",
       "      <td>0.00</td>\n",
       "      <td>2014</td>\n",
       "      <td>NaN</td>\n",
       "      <td>San Francisco</td>\n",
       "      <td>PT</td>\n",
       "    </tr>\n",
       "    <tr>\n",
       "      <th>148650</th>\n",
       "      <td>148651</td>\n",
       "      <td>NaN</td>\n",
       "      <td>NaN</td>\n",
       "      <td>NaN</td>\n",
       "      <td>NaN</td>\n",
       "      <td>NaN</td>\n",
       "      <td>NaN</td>\n",
       "      <td>0.00</td>\n",
       "      <td>0.00</td>\n",
       "      <td>2014</td>\n",
       "      <td>NaN</td>\n",
       "      <td>San Francisco</td>\n",
       "      <td>NaN</td>\n",
       "    </tr>\n",
       "    <tr>\n",
       "      <th>148651</th>\n",
       "      <td>148652</td>\n",
       "      <td>NaN</td>\n",
       "      <td>NaN</td>\n",
       "      <td>NaN</td>\n",
       "      <td>NaN</td>\n",
       "      <td>NaN</td>\n",
       "      <td>NaN</td>\n",
       "      <td>0.00</td>\n",
       "      <td>0.00</td>\n",
       "      <td>2014</td>\n",
       "      <td>NaN</td>\n",
       "      <td>San Francisco</td>\n",
       "      <td>NaN</td>\n",
       "    </tr>\n",
       "    <tr>\n",
       "      <th>148652</th>\n",
       "      <td>148653</td>\n",
       "      <td>NaN</td>\n",
       "      <td>NaN</td>\n",
       "      <td>NaN</td>\n",
       "      <td>NaN</td>\n",
       "      <td>NaN</td>\n",
       "      <td>NaN</td>\n",
       "      <td>0.00</td>\n",
       "      <td>0.00</td>\n",
       "      <td>2014</td>\n",
       "      <td>NaN</td>\n",
       "      <td>San Francisco</td>\n",
       "      <td>NaN</td>\n",
       "    </tr>\n",
       "    <tr>\n",
       "      <th>148653</th>\n",
       "      <td>148654</td>\n",
       "      <td>Joe Lopez</td>\n",
       "      <td>Counselor, Log Cabin Ranch</td>\n",
       "      <td>0.00</td>\n",
       "      <td>0.00</td>\n",
       "      <td>-618.13</td>\n",
       "      <td>0.00</td>\n",
       "      <td>-618.13</td>\n",
       "      <td>-618.13</td>\n",
       "      <td>2014</td>\n",
       "      <td>NaN</td>\n",
       "      <td>San Francisco</td>\n",
       "      <td>PT</td>\n",
       "    </tr>\n",
       "  </tbody>\n",
       "</table>\n",
       "<p>148654 rows × 13 columns</p>\n",
       "</div>"
      ],
      "text/plain": [
       "            Id       EmployeeName  \\\n",
       "0            1     NATHANIEL FORD   \n",
       "1            2       GARY JIMENEZ   \n",
       "2            3     ALBERT PARDINI   \n",
       "3            4  CHRISTOPHER CHONG   \n",
       "4            5    PATRICK GARDNER   \n",
       "...        ...                ...   \n",
       "148649  148650      Roy I Tillery   \n",
       "148650  148651                NaN   \n",
       "148651  148652                NaN   \n",
       "148652  148653                NaN   \n",
       "148653  148654          Joe Lopez   \n",
       "\n",
       "                                              JobTitle    BasePay OvertimePay  \\\n",
       "0       GENERAL MANAGER-METROPOLITAN TRANSIT AUTHORITY  167411.18         0.0   \n",
       "1                      CAPTAIN III (POLICE DEPARTMENT)  155966.02   245131.88   \n",
       "2                      CAPTAIN III (POLICE DEPARTMENT)  212739.13   106088.18   \n",
       "3                 WIRE ROPE CABLE MAINTENANCE MECHANIC    77916.0    56120.71   \n",
       "4         DEPUTY CHIEF OF DEPARTMENT,(FIRE DEPARTMENT)   134401.6      9737.0   \n",
       "...                                                ...        ...         ...   \n",
       "148649                                       Custodian       0.00        0.00   \n",
       "148650                                             NaN        NaN         NaN   \n",
       "148651                                             NaN        NaN         NaN   \n",
       "148652                                             NaN        NaN         NaN   \n",
       "148653                      Counselor, Log Cabin Ranch       0.00        0.00   \n",
       "\n",
       "         OtherPay Benefits   TotalPay  TotalPayBenefits  Year  Notes  \\\n",
       "0       400184.25      NaN  567595.43         567595.43  2011    NaN   \n",
       "1       137811.38      NaN  538909.28         538909.28  2011    NaN   \n",
       "2         16452.6      NaN  335279.91         335279.91  2011    NaN   \n",
       "3        198306.9      NaN  332343.61         332343.61  2011    NaN   \n",
       "4       182234.59      NaN  326373.19         326373.19  2011    NaN   \n",
       "...           ...      ...        ...               ...   ...    ...   \n",
       "148649       0.00     0.00       0.00              0.00  2014    NaN   \n",
       "148650        NaN      NaN       0.00              0.00  2014    NaN   \n",
       "148651        NaN      NaN       0.00              0.00  2014    NaN   \n",
       "148652        NaN      NaN       0.00              0.00  2014    NaN   \n",
       "148653    -618.13     0.00    -618.13           -618.13  2014    NaN   \n",
       "\n",
       "               Agency Status  \n",
       "0       San Francisco    NaN  \n",
       "1       San Francisco    NaN  \n",
       "2       San Francisco    NaN  \n",
       "3       San Francisco    NaN  \n",
       "4       San Francisco    NaN  \n",
       "...               ...    ...  \n",
       "148649  San Francisco     PT  \n",
       "148650  San Francisco    NaN  \n",
       "148651  San Francisco    NaN  \n",
       "148652  San Francisco    NaN  \n",
       "148653  San Francisco     PT  \n",
       "\n",
       "[148654 rows x 13 columns]"
      ]
     },
     "execution_count": 8,
     "metadata": {},
     "output_type": "execute_result"
    }
   ],
   "source": [
    "data"
   ]
  },
  {
   "cell_type": "code",
   "execution_count": 9,
   "id": "380cb836",
   "metadata": {
    "execution": {
     "iopub.execute_input": "2023-03-05T23:34:08.528532Z",
     "iopub.status.busy": "2023-03-05T23:34:08.527705Z",
     "iopub.status.idle": "2023-03-05T23:34:08.564557Z",
     "shell.execute_reply": "2023-03-05T23:34:08.563208Z"
    },
    "papermill": {
     "duration": 0.053892,
     "end_time": "2023-03-05T23:34:08.567430",
     "exception": false,
     "start_time": "2023-03-05T23:34:08.513538",
     "status": "completed"
    },
    "tags": []
   },
   "outputs": [],
   "source": [
    "data['BasePay'] = data['BasePay'].astype(float)"
   ]
  },
  {
   "cell_type": "code",
   "execution_count": 10,
   "id": "6ad64e55",
   "metadata": {
    "execution": {
     "iopub.execute_input": "2023-03-05T23:34:08.594108Z",
     "iopub.status.busy": "2023-03-05T23:34:08.593334Z",
     "iopub.status.idle": "2023-03-05T23:34:08.617616Z",
     "shell.execute_reply": "2023-03-05T23:34:08.616567Z"
    },
    "papermill": {
     "duration": 0.040608,
     "end_time": "2023-03-05T23:34:08.620104",
     "exception": false,
     "start_time": "2023-03-05T23:34:08.579496",
     "status": "completed"
    },
    "tags": []
   },
   "outputs": [],
   "source": [
    "data['OvertimePay'] = data['OvertimePay'].astype(float)"
   ]
  },
  {
   "cell_type": "code",
   "execution_count": 11,
   "id": "cba702ab",
   "metadata": {
    "execution": {
     "iopub.execute_input": "2023-03-05T23:34:08.646715Z",
     "iopub.status.busy": "2023-03-05T23:34:08.646290Z",
     "iopub.status.idle": "2023-03-05T23:34:08.666968Z",
     "shell.execute_reply": "2023-03-05T23:34:08.665559Z"
    },
    "papermill": {
     "duration": 0.037336,
     "end_time": "2023-03-05T23:34:08.669836",
     "exception": false,
     "start_time": "2023-03-05T23:34:08.632500",
     "status": "completed"
    },
    "tags": []
   },
   "outputs": [],
   "source": [
    "data['OtherPay'] = data['OtherPay'].astype(float)"
   ]
  },
  {
   "cell_type": "code",
   "execution_count": 12,
   "id": "1ae1b5a5",
   "metadata": {
    "execution": {
     "iopub.execute_input": "2023-03-05T23:34:08.696155Z",
     "iopub.status.busy": "2023-03-05T23:34:08.695708Z",
     "iopub.status.idle": "2023-03-05T23:34:08.715937Z",
     "shell.execute_reply": "2023-03-05T23:34:08.714492Z"
    },
    "papermill": {
     "duration": 0.036934,
     "end_time": "2023-03-05T23:34:08.718901",
     "exception": false,
     "start_time": "2023-03-05T23:34:08.681967",
     "status": "completed"
    },
    "tags": []
   },
   "outputs": [],
   "source": [
    "data['Benefits'] = data['Benefits'].astype(float)"
   ]
  },
  {
   "cell_type": "markdown",
   "id": "e0f9266b",
   "metadata": {
    "papermill": {
     "duration": 0.011574,
     "end_time": "2023-03-05T23:34:08.742513",
     "exception": false,
     "start_time": "2023-03-05T23:34:08.730939",
     "status": "completed"
    },
    "tags": []
   },
   "source": [
    "5. Check Null Values In The Dataset"
   ]
  },
  {
   "cell_type": "code",
   "execution_count": 13,
   "id": "a8f30dce",
   "metadata": {
    "execution": {
     "iopub.execute_input": "2023-03-05T23:34:08.768145Z",
     "iopub.status.busy": "2023-03-05T23:34:08.767691Z",
     "iopub.status.idle": "2023-03-05T23:34:08.811900Z",
     "shell.execute_reply": "2023-03-05T23:34:08.810562Z"
    },
    "papermill": {
     "duration": 0.06047,
     "end_time": "2023-03-05T23:34:08.814864",
     "exception": false,
     "start_time": "2023-03-05T23:34:08.754394",
     "status": "completed"
    },
    "tags": []
   },
   "outputs": [
    {
     "data": {
      "text/plain": [
       "Id                       0\n",
       "EmployeeName             6\n",
       "JobTitle                 4\n",
       "BasePay                609\n",
       "OvertimePay              4\n",
       "OtherPay                 4\n",
       "Benefits             36163\n",
       "TotalPay                 0\n",
       "TotalPayBenefits         0\n",
       "Year                     0\n",
       "Notes               148654\n",
       "Agency                   0\n",
       "Status              110535\n",
       "dtype: int64"
      ]
     },
     "execution_count": 13,
     "metadata": {},
     "output_type": "execute_result"
    }
   ],
   "source": [
    "data.isnull().sum()"
   ]
  },
  {
   "cell_type": "markdown",
   "id": "5ac80303",
   "metadata": {
    "papermill": {
     "duration": 0.012237,
     "end_time": "2023-03-05T23:34:08.839420",
     "exception": false,
     "start_time": "2023-03-05T23:34:08.827183",
     "status": "completed"
    },
    "tags": []
   },
   "source": [
    "6. Drop ID, Notes, Agency, and Status Columns"
   ]
  },
  {
   "cell_type": "code",
   "execution_count": 14,
   "id": "d6d875f2",
   "metadata": {
    "execution": {
     "iopub.execute_input": "2023-03-05T23:34:08.867894Z",
     "iopub.status.busy": "2023-03-05T23:34:08.867272Z",
     "iopub.status.idle": "2023-03-05T23:34:08.887011Z",
     "shell.execute_reply": "2023-03-05T23:34:08.885895Z"
    },
    "papermill": {
     "duration": 0.037808,
     "end_time": "2023-03-05T23:34:08.889877",
     "exception": false,
     "start_time": "2023-03-05T23:34:08.852069",
     "status": "completed"
    },
    "tags": []
   },
   "outputs": [],
   "source": [
    "data = data.drop(['Id', 'Notes', 'Agency', 'Status'], axis=1)"
   ]
  },
  {
   "cell_type": "markdown",
   "id": "a7c2a350",
   "metadata": {
    "papermill": {
     "duration": 0.012056,
     "end_time": "2023-03-05T23:34:08.914258",
     "exception": false,
     "start_time": "2023-03-05T23:34:08.902202",
     "status": "completed"
    },
    "tags": []
   },
   "source": [
    "7. Get Overall Statistics About The Dataframe"
   ]
  },
  {
   "cell_type": "code",
   "execution_count": 15,
   "id": "2462eb2f",
   "metadata": {
    "execution": {
     "iopub.execute_input": "2023-03-05T23:34:08.941026Z",
     "iopub.status.busy": "2023-03-05T23:34:08.940312Z",
     "iopub.status.idle": "2023-03-05T23:34:09.134611Z",
     "shell.execute_reply": "2023-03-05T23:34:09.133220Z"
    },
    "papermill": {
     "duration": 0.210935,
     "end_time": "2023-03-05T23:34:09.137364",
     "exception": false,
     "start_time": "2023-03-05T23:34:08.926429",
     "status": "completed"
    },
    "tags": []
   },
   "outputs": [
    {
     "data": {
      "text/html": [
       "<div>\n",
       "<style scoped>\n",
       "    .dataframe tbody tr th:only-of-type {\n",
       "        vertical-align: middle;\n",
       "    }\n",
       "\n",
       "    .dataframe tbody tr th {\n",
       "        vertical-align: top;\n",
       "    }\n",
       "\n",
       "    .dataframe thead th {\n",
       "        text-align: right;\n",
       "    }\n",
       "</style>\n",
       "<table border=\"1\" class=\"dataframe\">\n",
       "  <thead>\n",
       "    <tr style=\"text-align: right;\">\n",
       "      <th></th>\n",
       "      <th>EmployeeName</th>\n",
       "      <th>JobTitle</th>\n",
       "      <th>BasePay</th>\n",
       "      <th>OvertimePay</th>\n",
       "      <th>OtherPay</th>\n",
       "      <th>Benefits</th>\n",
       "      <th>TotalPay</th>\n",
       "      <th>TotalPayBenefits</th>\n",
       "      <th>Year</th>\n",
       "    </tr>\n",
       "  </thead>\n",
       "  <tbody>\n",
       "    <tr>\n",
       "      <th>count</th>\n",
       "      <td>148648</td>\n",
       "      <td>148650</td>\n",
       "      <td>148045.000000</td>\n",
       "      <td>148650.000000</td>\n",
       "      <td>148650.000000</td>\n",
       "      <td>112491.000000</td>\n",
       "      <td>148654.000000</td>\n",
       "      <td>148654.000000</td>\n",
       "      <td>148654.000000</td>\n",
       "    </tr>\n",
       "    <tr>\n",
       "      <th>unique</th>\n",
       "      <td>110809</td>\n",
       "      <td>2158</td>\n",
       "      <td>NaN</td>\n",
       "      <td>NaN</td>\n",
       "      <td>NaN</td>\n",
       "      <td>NaN</td>\n",
       "      <td>NaN</td>\n",
       "      <td>NaN</td>\n",
       "      <td>NaN</td>\n",
       "    </tr>\n",
       "    <tr>\n",
       "      <th>top</th>\n",
       "      <td>Kevin Lee</td>\n",
       "      <td>Transit Operator</td>\n",
       "      <td>NaN</td>\n",
       "      <td>NaN</td>\n",
       "      <td>NaN</td>\n",
       "      <td>NaN</td>\n",
       "      <td>NaN</td>\n",
       "      <td>NaN</td>\n",
       "      <td>NaN</td>\n",
       "    </tr>\n",
       "    <tr>\n",
       "      <th>freq</th>\n",
       "      <td>13</td>\n",
       "      <td>7036</td>\n",
       "      <td>NaN</td>\n",
       "      <td>NaN</td>\n",
       "      <td>NaN</td>\n",
       "      <td>NaN</td>\n",
       "      <td>NaN</td>\n",
       "      <td>NaN</td>\n",
       "      <td>NaN</td>\n",
       "    </tr>\n",
       "    <tr>\n",
       "      <th>mean</th>\n",
       "      <td>NaN</td>\n",
       "      <td>NaN</td>\n",
       "      <td>66325.448840</td>\n",
       "      <td>5066.059886</td>\n",
       "      <td>3648.767297</td>\n",
       "      <td>25007.893151</td>\n",
       "      <td>74768.321972</td>\n",
       "      <td>93692.554811</td>\n",
       "      <td>2012.522643</td>\n",
       "    </tr>\n",
       "    <tr>\n",
       "      <th>std</th>\n",
       "      <td>NaN</td>\n",
       "      <td>NaN</td>\n",
       "      <td>42764.635495</td>\n",
       "      <td>11454.380559</td>\n",
       "      <td>8056.601866</td>\n",
       "      <td>15402.215858</td>\n",
       "      <td>50517.005274</td>\n",
       "      <td>62793.533483</td>\n",
       "      <td>1.117538</td>\n",
       "    </tr>\n",
       "    <tr>\n",
       "      <th>min</th>\n",
       "      <td>NaN</td>\n",
       "      <td>NaN</td>\n",
       "      <td>-166.010000</td>\n",
       "      <td>-0.010000</td>\n",
       "      <td>-7058.590000</td>\n",
       "      <td>-33.890000</td>\n",
       "      <td>-618.130000</td>\n",
       "      <td>-618.130000</td>\n",
       "      <td>2011.000000</td>\n",
       "    </tr>\n",
       "    <tr>\n",
       "      <th>25%</th>\n",
       "      <td>NaN</td>\n",
       "      <td>NaN</td>\n",
       "      <td>33588.200000</td>\n",
       "      <td>0.000000</td>\n",
       "      <td>0.000000</td>\n",
       "      <td>11535.395000</td>\n",
       "      <td>36168.995000</td>\n",
       "      <td>44065.650000</td>\n",
       "      <td>2012.000000</td>\n",
       "    </tr>\n",
       "    <tr>\n",
       "      <th>50%</th>\n",
       "      <td>NaN</td>\n",
       "      <td>NaN</td>\n",
       "      <td>65007.450000</td>\n",
       "      <td>0.000000</td>\n",
       "      <td>811.270000</td>\n",
       "      <td>28628.620000</td>\n",
       "      <td>71426.610000</td>\n",
       "      <td>92404.090000</td>\n",
       "      <td>2013.000000</td>\n",
       "    </tr>\n",
       "    <tr>\n",
       "      <th>75%</th>\n",
       "      <td>NaN</td>\n",
       "      <td>NaN</td>\n",
       "      <td>94691.050000</td>\n",
       "      <td>4658.175000</td>\n",
       "      <td>4236.065000</td>\n",
       "      <td>35566.855000</td>\n",
       "      <td>105839.135000</td>\n",
       "      <td>132876.450000</td>\n",
       "      <td>2014.000000</td>\n",
       "    </tr>\n",
       "    <tr>\n",
       "      <th>max</th>\n",
       "      <td>NaN</td>\n",
       "      <td>NaN</td>\n",
       "      <td>319275.010000</td>\n",
       "      <td>245131.880000</td>\n",
       "      <td>400184.250000</td>\n",
       "      <td>96570.660000</td>\n",
       "      <td>567595.430000</td>\n",
       "      <td>567595.430000</td>\n",
       "      <td>2014.000000</td>\n",
       "    </tr>\n",
       "  </tbody>\n",
       "</table>\n",
       "</div>"
      ],
      "text/plain": [
       "       EmployeeName          JobTitle        BasePay    OvertimePay  \\\n",
       "count        148648            148650  148045.000000  148650.000000   \n",
       "unique       110809              2158            NaN            NaN   \n",
       "top       Kevin Lee  Transit Operator            NaN            NaN   \n",
       "freq             13              7036            NaN            NaN   \n",
       "mean            NaN               NaN   66325.448840    5066.059886   \n",
       "std             NaN               NaN   42764.635495   11454.380559   \n",
       "min             NaN               NaN    -166.010000      -0.010000   \n",
       "25%             NaN               NaN   33588.200000       0.000000   \n",
       "50%             NaN               NaN   65007.450000       0.000000   \n",
       "75%             NaN               NaN   94691.050000    4658.175000   \n",
       "max             NaN               NaN  319275.010000  245131.880000   \n",
       "\n",
       "             OtherPay       Benefits       TotalPay  TotalPayBenefits  \\\n",
       "count   148650.000000  112491.000000  148654.000000     148654.000000   \n",
       "unique            NaN            NaN            NaN               NaN   \n",
       "top               NaN            NaN            NaN               NaN   \n",
       "freq              NaN            NaN            NaN               NaN   \n",
       "mean      3648.767297   25007.893151   74768.321972      93692.554811   \n",
       "std       8056.601866   15402.215858   50517.005274      62793.533483   \n",
       "min      -7058.590000     -33.890000    -618.130000       -618.130000   \n",
       "25%          0.000000   11535.395000   36168.995000      44065.650000   \n",
       "50%        811.270000   28628.620000   71426.610000      92404.090000   \n",
       "75%       4236.065000   35566.855000  105839.135000     132876.450000   \n",
       "max     400184.250000   96570.660000  567595.430000     567595.430000   \n",
       "\n",
       "                 Year  \n",
       "count   148654.000000  \n",
       "unique            NaN  \n",
       "top               NaN  \n",
       "freq              NaN  \n",
       "mean      2012.522643  \n",
       "std          1.117538  \n",
       "min       2011.000000  \n",
       "25%       2012.000000  \n",
       "50%       2013.000000  \n",
       "75%       2014.000000  \n",
       "max       2014.000000  "
      ]
     },
     "execution_count": 15,
     "metadata": {},
     "output_type": "execute_result"
    }
   ],
   "source": [
    "data.describe(include='all')"
   ]
  },
  {
   "cell_type": "markdown",
   "id": "45c33c55",
   "metadata": {
    "papermill": {
     "duration": 0.012461,
     "end_time": "2023-03-05T23:34:09.162517",
     "exception": false,
     "start_time": "2023-03-05T23:34:09.150056",
     "status": "completed"
    },
    "tags": []
   },
   "source": [
    "8. Find Occurrence of The Employee Names  (Top 5)"
   ]
  },
  {
   "cell_type": "code",
   "execution_count": 16,
   "id": "f89e76d7",
   "metadata": {
    "execution": {
     "iopub.execute_input": "2023-03-05T23:34:09.190426Z",
     "iopub.status.busy": "2023-03-05T23:34:09.189578Z",
     "iopub.status.idle": "2023-03-05T23:34:09.280499Z",
     "shell.execute_reply": "2023-03-05T23:34:09.279223Z"
    },
    "papermill": {
     "duration": 0.108314,
     "end_time": "2023-03-05T23:34:09.283328",
     "exception": false,
     "start_time": "2023-03-05T23:34:09.175014",
     "status": "completed"
    },
    "tags": []
   },
   "outputs": [
    {
     "data": {
      "text/plain": [
       "Kevin Lee       13\n",
       "William Wong    11\n",
       "Richard Lee     11\n",
       "Steven Lee      11\n",
       "KEVIN LEE        9\n",
       "Name: EmployeeName, dtype: int64"
      ]
     },
     "execution_count": 16,
     "metadata": {},
     "output_type": "execute_result"
    }
   ],
   "source": [
    "data['EmployeeName'].value_counts().head()"
   ]
  },
  {
   "cell_type": "markdown",
   "id": "7dfd2cdb",
   "metadata": {
    "papermill": {
     "duration": 0.013601,
     "end_time": "2023-03-05T23:34:09.309637",
     "exception": false,
     "start_time": "2023-03-05T23:34:09.296036",
     "status": "completed"
    },
    "tags": []
   },
   "source": [
    "9. Find The Number of Unique Job Titles"
   ]
  },
  {
   "cell_type": "code",
   "execution_count": 17,
   "id": "b54511d2",
   "metadata": {
    "execution": {
     "iopub.execute_input": "2023-03-05T23:34:09.338001Z",
     "iopub.status.busy": "2023-03-05T23:34:09.336658Z",
     "iopub.status.idle": "2023-03-05T23:34:09.356809Z",
     "shell.execute_reply": "2023-03-05T23:34:09.355557Z"
    },
    "papermill": {
     "duration": 0.036795,
     "end_time": "2023-03-05T23:34:09.359364",
     "exception": false,
     "start_time": "2023-03-05T23:34:09.322569",
     "status": "completed"
    },
    "tags": []
   },
   "outputs": [
    {
     "data": {
      "text/plain": [
       "2158"
      ]
     },
     "execution_count": 17,
     "metadata": {},
     "output_type": "execute_result"
    }
   ],
   "source": [
    "data['JobTitle'].nunique()"
   ]
  },
  {
   "cell_type": "markdown",
   "id": "b0626d29",
   "metadata": {
    "papermill": {
     "duration": 0.012237,
     "end_time": "2023-03-05T23:34:09.384338",
     "exception": false,
     "start_time": "2023-03-05T23:34:09.372101",
     "status": "completed"
    },
    "tags": []
   },
   "source": [
    "10. Total Number of Job Titles Contain Captain"
   ]
  },
  {
   "cell_type": "code",
   "execution_count": 18,
   "id": "ee7c5dc9",
   "metadata": {
    "execution": {
     "iopub.execute_input": "2023-03-05T23:34:09.412194Z",
     "iopub.status.busy": "2023-03-05T23:34:09.411453Z",
     "iopub.status.idle": "2023-03-05T23:34:09.434694Z",
     "shell.execute_reply": "2023-03-05T23:34:09.433191Z"
    },
    "papermill": {
     "duration": 0.04057,
     "end_time": "2023-03-05T23:34:09.437661",
     "exception": false,
     "start_time": "2023-03-05T23:34:09.397091",
     "status": "completed"
    },
    "tags": []
   },
   "outputs": [],
   "source": [
    "data = data[data['JobTitle'].notna()]"
   ]
  },
  {
   "cell_type": "code",
   "execution_count": 19,
   "id": "13fcb528",
   "metadata": {
    "execution": {
     "iopub.execute_input": "2023-03-05T23:34:09.465360Z",
     "iopub.status.busy": "2023-03-05T23:34:09.464948Z",
     "iopub.status.idle": "2023-03-05T23:34:09.591746Z",
     "shell.execute_reply": "2023-03-05T23:34:09.590262Z"
    },
    "papermill": {
     "duration": 0.144162,
     "end_time": "2023-03-05T23:34:09.594682",
     "exception": false,
     "start_time": "2023-03-05T23:34:09.450520",
     "status": "completed"
    },
    "tags": []
   },
   "outputs": [
    {
     "data": {
      "text/plain": [
       "EmployeeName        552\n",
       "JobTitle            552\n",
       "BasePay             551\n",
       "OvertimePay         552\n",
       "OtherPay            552\n",
       "Benefits            411\n",
       "TotalPay            552\n",
       "TotalPayBenefits    552\n",
       "Year                552\n",
       "dtype: int64"
      ]
     },
     "execution_count": 19,
     "metadata": {},
     "output_type": "execute_result"
    }
   ],
   "source": [
    "data[data['JobTitle'].str.contains('CAPTAIN',case=False)].count()"
   ]
  },
  {
   "cell_type": "markdown",
   "id": "04edcf8d",
   "metadata": {
    "papermill": {
     "duration": 0.013618,
     "end_time": "2023-03-05T23:34:09.621302",
     "exception": false,
     "start_time": "2023-03-05T23:34:09.607684",
     "status": "completed"
    },
    "tags": []
   },
   "source": [
    "11. Display All the Employee Names From Fire Department"
   ]
  },
  {
   "cell_type": "code",
   "execution_count": 20,
   "id": "9cfe8bbd",
   "metadata": {
    "execution": {
     "iopub.execute_input": "2023-03-05T23:34:09.649162Z",
     "iopub.status.busy": "2023-03-05T23:34:09.648727Z",
     "iopub.status.idle": "2023-03-05T23:34:09.741921Z",
     "shell.execute_reply": "2023-03-05T23:34:09.740523Z"
    },
    "papermill": {
     "duration": 0.110516,
     "end_time": "2023-03-05T23:34:09.744752",
     "exception": false,
     "start_time": "2023-03-05T23:34:09.634236",
     "status": "completed"
    },
    "tags": []
   },
   "outputs": [
    {
     "data": {
      "text/plain": [
       "4              PATRICK GARDNER\n",
       "6                    ALSON LEE\n",
       "8               MICHAEL MORRIS\n",
       "9           JOANNE HAYES-WHITE\n",
       "10               ARTHUR KENNEY\n",
       "                  ...         \n",
       "32623             JAMES BARDEN\n",
       "36162       Joanne Hayes-White\n",
       "72926     Joanne M Hayes-White\n",
       "102303          Robert E Evans\n",
       "110535    Joanne M Hayes-White\n",
       "Name: EmployeeName, Length: 226, dtype: object"
      ]
     },
     "execution_count": 20,
     "metadata": {},
     "output_type": "execute_result"
    }
   ],
   "source": [
    "data[data['JobTitle'].str.contains('Fire Department',case=False)]['EmployeeName']"
   ]
  },
  {
   "cell_type": "markdown",
   "id": "e940c29f",
   "metadata": {
    "papermill": {
     "duration": 0.013315,
     "end_time": "2023-03-05T23:34:09.771299",
     "exception": false,
     "start_time": "2023-03-05T23:34:09.757984",
     "status": "completed"
    },
    "tags": []
   },
   "source": [
    "12. Find Minimum, Maximum, and Average BasePay"
   ]
  },
  {
   "cell_type": "code",
   "execution_count": 21,
   "id": "6dd8cbb2",
   "metadata": {
    "execution": {
     "iopub.execute_input": "2023-03-05T23:34:09.799954Z",
     "iopub.status.busy": "2023-03-05T23:34:09.798815Z",
     "iopub.status.idle": "2023-03-05T23:34:09.817273Z",
     "shell.execute_reply": "2023-03-05T23:34:09.815842Z"
    },
    "papermill": {
     "duration": 0.035711,
     "end_time": "2023-03-05T23:34:09.820086",
     "exception": false,
     "start_time": "2023-03-05T23:34:09.784375",
     "status": "completed"
    },
    "tags": []
   },
   "outputs": [
    {
     "data": {
      "text/plain": [
       "count    148045.000000\n",
       "mean      66325.448840\n",
       "std       42764.635495\n",
       "min        -166.010000\n",
       "25%       33588.200000\n",
       "50%       65007.450000\n",
       "75%       94691.050000\n",
       "max      319275.010000\n",
       "Name: BasePay, dtype: float64"
      ]
     },
     "execution_count": 21,
     "metadata": {},
     "output_type": "execute_result"
    }
   ],
   "source": [
    "data['BasePay'].describe()"
   ]
  },
  {
   "cell_type": "markdown",
   "id": "c9dfd40b",
   "metadata": {
    "papermill": {
     "duration": 0.013403,
     "end_time": "2023-03-05T23:34:09.847176",
     "exception": false,
     "start_time": "2023-03-05T23:34:09.833773",
     "status": "completed"
    },
    "tags": []
   },
   "source": [
    "13. Replace 'Not Provided' in EmployeeName' Column to NaN "
   ]
  },
  {
   "cell_type": "code",
   "execution_count": 22,
   "id": "0b61e7e0",
   "metadata": {
    "execution": {
     "iopub.execute_input": "2023-03-05T23:34:09.876064Z",
     "iopub.status.busy": "2023-03-05T23:34:09.875292Z",
     "iopub.status.idle": "2023-03-05T23:34:09.879489Z",
     "shell.execute_reply": "2023-03-05T23:34:09.878553Z"
    },
    "papermill": {
     "duration": 0.021599,
     "end_time": "2023-03-05T23:34:09.881874",
     "exception": false,
     "start_time": "2023-03-05T23:34:09.860275",
     "status": "completed"
    },
    "tags": []
   },
   "outputs": [],
   "source": [
    "# done in question 4"
   ]
  },
  {
   "cell_type": "code",
   "execution_count": 23,
   "id": "bc0f777d",
   "metadata": {
    "execution": {
     "iopub.execute_input": "2023-03-05T23:34:09.910722Z",
     "iopub.status.busy": "2023-03-05T23:34:09.909964Z",
     "iopub.status.idle": "2023-03-05T23:34:09.918124Z",
     "shell.execute_reply": "2023-03-05T23:34:09.917003Z"
    },
    "papermill": {
     "duration": 0.025554,
     "end_time": "2023-03-05T23:34:09.920655",
     "exception": false,
     "start_time": "2023-03-05T23:34:09.895101",
     "status": "completed"
    },
    "tags": []
   },
   "outputs": [
    {
     "data": {
      "text/plain": [
       "0            NATHANIEL FORD\n",
       "1              GARY JIMENEZ\n",
       "2            ALBERT PARDINI\n",
       "3         CHRISTOPHER CHONG\n",
       "4           PATRICK GARDNER\n",
       "                ...        \n",
       "148645     Carolyn A Wilson\n",
       "148647       Joann Anderson\n",
       "148648          Leon Walker\n",
       "148649        Roy I Tillery\n",
       "148653            Joe Lopez\n",
       "Name: EmployeeName, Length: 148650, dtype: object"
      ]
     },
     "execution_count": 23,
     "metadata": {},
     "output_type": "execute_result"
    }
   ],
   "source": [
    "data['EmployeeName']"
   ]
  },
  {
   "cell_type": "markdown",
   "id": "17313475",
   "metadata": {
    "papermill": {
     "duration": 0.013696,
     "end_time": "2023-03-05T23:34:09.947697",
     "exception": false,
     "start_time": "2023-03-05T23:34:09.934001",
     "status": "completed"
    },
    "tags": []
   },
   "source": [
    "14. Drop The Rows Having 5 Missing Values"
   ]
  },
  {
   "cell_type": "code",
   "execution_count": 24,
   "id": "f0cb4b8d",
   "metadata": {
    "execution": {
     "iopub.execute_input": "2023-03-05T23:34:09.976926Z",
     "iopub.status.busy": "2023-03-05T23:34:09.976166Z",
     "iopub.status.idle": "2023-03-05T23:34:09.980149Z",
     "shell.execute_reply": "2023-03-05T23:34:09.979293Z"
    },
    "papermill": {
     "duration": 0.021325,
     "end_time": "2023-03-05T23:34:09.982645",
     "exception": false,
     "start_time": "2023-03-05T23:34:09.961320",
     "status": "completed"
    },
    "tags": []
   },
   "outputs": [],
   "source": [
    "#data.drop(data[data.isnull().sum(axis=1)>=5].index,axis=0, inplace=True)\n",
    "#No rows have more than 1 NaN"
   ]
  },
  {
   "cell_type": "code",
   "execution_count": 25,
   "id": "f6bd26a7",
   "metadata": {
    "execution": {
     "iopub.execute_input": "2023-03-05T23:34:10.011861Z",
     "iopub.status.busy": "2023-03-05T23:34:10.011124Z",
     "iopub.status.idle": "2023-03-05T23:34:10.039099Z",
     "shell.execute_reply": "2023-03-05T23:34:10.037888Z"
    },
    "papermill": {
     "duration": 0.045857,
     "end_time": "2023-03-05T23:34:10.041706",
     "exception": false,
     "start_time": "2023-03-05T23:34:09.995849",
     "status": "completed"
    },
    "tags": []
   },
   "outputs": [
    {
     "data": {
      "text/plain": [
       "0         1\n",
       "1         1\n",
       "2         1\n",
       "3         1\n",
       "4         1\n",
       "         ..\n",
       "148645    0\n",
       "148647    0\n",
       "148648    0\n",
       "148649    0\n",
       "148653    0\n",
       "Length: 148650, dtype: int64"
      ]
     },
     "execution_count": 25,
     "metadata": {},
     "output_type": "execute_result"
    }
   ],
   "source": [
    "data.isnull().sum(axis=1)"
   ]
  },
  {
   "cell_type": "markdown",
   "id": "d6357d50",
   "metadata": {
    "papermill": {
     "duration": 0.013015,
     "end_time": "2023-03-05T23:34:10.068198",
     "exception": false,
     "start_time": "2023-03-05T23:34:10.055183",
     "status": "completed"
    },
    "tags": []
   },
   "source": [
    "15. Find Job Title of ALBERT PARDINI"
   ]
  },
  {
   "cell_type": "code",
   "execution_count": 26,
   "id": "bd83f67a",
   "metadata": {
    "execution": {
     "iopub.execute_input": "2023-03-05T23:34:10.097806Z",
     "iopub.status.busy": "2023-03-05T23:34:10.097002Z",
     "iopub.status.idle": "2023-03-05T23:34:10.117649Z",
     "shell.execute_reply": "2023-03-05T23:34:10.116676Z"
    },
    "papermill": {
     "duration": 0.038697,
     "end_time": "2023-03-05T23:34:10.120292",
     "exception": false,
     "start_time": "2023-03-05T23:34:10.081595",
     "status": "completed"
    },
    "tags": []
   },
   "outputs": [
    {
     "data": {
      "text/plain": [
       "2    CAPTAIN III (POLICE DEPARTMENT)\n",
       "Name: JobTitle, dtype: object"
      ]
     },
     "execution_count": 26,
     "metadata": {},
     "output_type": "execute_result"
    }
   ],
   "source": [
    "data[data['EmployeeName']=='ALBERT PARDINI']['JobTitle']"
   ]
  },
  {
   "cell_type": "markdown",
   "id": "de747bf8",
   "metadata": {
    "papermill": {
     "duration": 0.01294,
     "end_time": "2023-03-05T23:34:10.146785",
     "exception": false,
     "start_time": "2023-03-05T23:34:10.133845",
     "status": "completed"
    },
    "tags": []
   },
   "source": [
    "16. How Much ALBERT PARDINI Make (Include Benefits)?"
   ]
  },
  {
   "cell_type": "code",
   "execution_count": 27,
   "id": "82f66231",
   "metadata": {
    "execution": {
     "iopub.execute_input": "2023-03-05T23:34:10.175871Z",
     "iopub.status.busy": "2023-03-05T23:34:10.175078Z",
     "iopub.status.idle": "2023-03-05T23:34:10.195809Z",
     "shell.execute_reply": "2023-03-05T23:34:10.194626Z"
    },
    "papermill": {
     "duration": 0.038095,
     "end_time": "2023-03-05T23:34:10.198255",
     "exception": false,
     "start_time": "2023-03-05T23:34:10.160160",
     "status": "completed"
    },
    "tags": []
   },
   "outputs": [
    {
     "data": {
      "text/plain": [
       "2    335279.91\n",
       "Name: TotalPayBenefits, dtype: float64"
      ]
     },
     "execution_count": 27,
     "metadata": {},
     "output_type": "execute_result"
    }
   ],
   "source": [
    "data[data['EmployeeName']=='ALBERT PARDINI']['TotalPayBenefits']"
   ]
  },
  {
   "cell_type": "markdown",
   "id": "df2def6d",
   "metadata": {
    "papermill": {
     "duration": 0.013071,
     "end_time": "2023-03-05T23:34:10.225356",
     "exception": false,
     "start_time": "2023-03-05T23:34:10.212285",
     "status": "completed"
    },
    "tags": []
   },
   "source": [
    "17.Display Name of The Person Having The Highest BasePay"
   ]
  },
  {
   "cell_type": "code",
   "execution_count": 28,
   "id": "d69c7702",
   "metadata": {
    "execution": {
     "iopub.execute_input": "2023-03-05T23:34:10.254734Z",
     "iopub.status.busy": "2023-03-05T23:34:10.253507Z",
     "iopub.status.idle": "2023-03-05T23:34:10.264949Z",
     "shell.execute_reply": "2023-03-05T23:34:10.263687Z"
    },
    "papermill": {
     "duration": 0.028779,
     "end_time": "2023-03-05T23:34:10.267578",
     "exception": false,
     "start_time": "2023-03-05T23:34:10.238799",
     "status": "completed"
    },
    "tags": []
   },
   "outputs": [
    {
     "data": {
      "text/plain": [
       "72925    Gregory P Suhr\n",
       "Name: EmployeeName, dtype: object"
      ]
     },
     "execution_count": 28,
     "metadata": {},
     "output_type": "execute_result"
    }
   ],
   "source": [
    "data[data['BasePay'].max()==data['BasePay']]['EmployeeName']"
   ]
  },
  {
   "cell_type": "markdown",
   "id": "98ead622",
   "metadata": {
    "papermill": {
     "duration": 0.013313,
     "end_time": "2023-03-05T23:34:10.294572",
     "exception": false,
     "start_time": "2023-03-05T23:34:10.281259",
     "status": "completed"
    },
    "tags": []
   },
   "source": [
    "18.Find Average BasePay of All Employee Per Year "
   ]
  },
  {
   "cell_type": "code",
   "execution_count": 29,
   "id": "98e7cfcd",
   "metadata": {
    "execution": {
     "iopub.execute_input": "2023-03-05T23:34:10.323666Z",
     "iopub.status.busy": "2023-03-05T23:34:10.323269Z",
     "iopub.status.idle": "2023-03-05T23:34:10.344886Z",
     "shell.execute_reply": "2023-03-05T23:34:10.343439Z"
    },
    "papermill": {
     "duration": 0.03913,
     "end_time": "2023-03-05T23:34:10.347358",
     "exception": false,
     "start_time": "2023-03-05T23:34:10.308228",
     "status": "completed"
    },
    "tags": []
   },
   "outputs": [
    {
     "data": {
      "text/plain": [
       "Year\n",
       "2011    63595.956517\n",
       "2012    65436.406857\n",
       "2013    69630.030216\n",
       "2014    66564.421924\n",
       "Name: BasePay, dtype: float64"
      ]
     },
     "execution_count": 29,
     "metadata": {},
     "output_type": "execute_result"
    }
   ],
   "source": [
    "data.groupby('Year').mean()['BasePay']"
   ]
  },
  {
   "cell_type": "markdown",
   "id": "a5a91769",
   "metadata": {
    "papermill": {
     "duration": 0.013424,
     "end_time": "2023-03-05T23:34:10.374732",
     "exception": false,
     "start_time": "2023-03-05T23:34:10.361308",
     "status": "completed"
    },
    "tags": []
   },
   "source": [
    "19. Find Average BasePay of All Employee Per JobTitle "
   ]
  },
  {
   "cell_type": "code",
   "execution_count": 30,
   "id": "d6d88d54",
   "metadata": {
    "execution": {
     "iopub.execute_input": "2023-03-05T23:34:10.404849Z",
     "iopub.status.busy": "2023-03-05T23:34:10.404056Z",
     "iopub.status.idle": "2023-03-05T23:34:10.445330Z",
     "shell.execute_reply": "2023-03-05T23:34:10.444063Z"
    },
    "papermill": {
     "duration": 0.059938,
     "end_time": "2023-03-05T23:34:10.448423",
     "exception": false,
     "start_time": "2023-03-05T23:34:10.388485",
     "status": "completed"
    },
    "tags": []
   },
   "outputs": [
    {
     "data": {
      "text/plain": [
       "JobTitle\n",
       "ACCOUNT CLERK                                     43300.806506\n",
       "ACCOUNTANT                                        46643.172000\n",
       "ACCOUNTANT INTERN                                 28732.663958\n",
       "ACPO,JuvP, Juv Prob (SFERS)                       62290.780000\n",
       "ACUPUNCTURIST                                     66374.400000\n",
       "                                                      ...     \n",
       "X-RAY LABORATORY AIDE                             47664.773077\n",
       "X-Ray Laboratory Aide                             46086.387100\n",
       "YOUTH COMMISSION ADVISOR, BOARD OF SUPERVISORS    52609.910000\n",
       "Youth Comm Advisor                                39077.957500\n",
       "ZOO CURATOR                                       43148.000000\n",
       "Name: BasePay, Length: 2158, dtype: float64"
      ]
     },
     "execution_count": 30,
     "metadata": {},
     "output_type": "execute_result"
    }
   ],
   "source": [
    "data.groupby('JobTitle').mean()['BasePay']"
   ]
  },
  {
   "cell_type": "markdown",
   "id": "2a58972d",
   "metadata": {
    "papermill": {
     "duration": 0.013529,
     "end_time": "2023-03-05T23:34:10.475970",
     "exception": false,
     "start_time": "2023-03-05T23:34:10.462441",
     "status": "completed"
    },
    "tags": []
   },
   "source": [
    "20. Find Average BasePay of Employee Having Job Title ACCOUNTANT  "
   ]
  },
  {
   "cell_type": "code",
   "execution_count": 31,
   "id": "3e4b9ab9",
   "metadata": {
    "execution": {
     "iopub.execute_input": "2023-03-05T23:34:10.506896Z",
     "iopub.status.busy": "2023-03-05T23:34:10.505727Z",
     "iopub.status.idle": "2023-03-05T23:34:10.525006Z",
     "shell.execute_reply": "2023-03-05T23:34:10.523762Z"
    },
    "papermill": {
     "duration": 0.037348,
     "end_time": "2023-03-05T23:34:10.527376",
     "exception": false,
     "start_time": "2023-03-05T23:34:10.490028",
     "status": "completed"
    },
    "tags": []
   },
   "outputs": [
    {
     "data": {
      "text/plain": [
       "46643.172"
      ]
     },
     "execution_count": 31,
     "metadata": {},
     "output_type": "execute_result"
    }
   ],
   "source": [
    "data[data['JobTitle']=='ACCOUNTANT']['BasePay'].mean()"
   ]
  },
  {
   "cell_type": "markdown",
   "id": "586b141f",
   "metadata": {
    "papermill": {
     "duration": 0.013468,
     "end_time": "2023-03-05T23:34:10.554728",
     "exception": false,
     "start_time": "2023-03-05T23:34:10.541260",
     "status": "completed"
    },
    "tags": []
   },
   "source": [
    "21. Find Top 5 Most Common Jobs"
   ]
  },
  {
   "cell_type": "code",
   "execution_count": 32,
   "id": "b0f8bb04",
   "metadata": {
    "execution": {
     "iopub.execute_input": "2023-03-05T23:34:10.584619Z",
     "iopub.status.busy": "2023-03-05T23:34:10.583958Z",
     "iopub.status.idle": "2023-03-05T23:34:10.602681Z",
     "shell.execute_reply": "2023-03-05T23:34:10.601394Z"
    },
    "papermill": {
     "duration": 0.036596,
     "end_time": "2023-03-05T23:34:10.605128",
     "exception": false,
     "start_time": "2023-03-05T23:34:10.568532",
     "status": "completed"
    },
    "tags": []
   },
   "outputs": [
    {
     "data": {
      "text/plain": [
       "Transit Operator                7036\n",
       "Special Nurse                   4389\n",
       "Registered Nurse                3736\n",
       "Public Svc Aide-Public Works    2518\n",
       "Police Officer 3                2421\n",
       "Name: JobTitle, dtype: int64"
      ]
     },
     "execution_count": 32,
     "metadata": {},
     "output_type": "execute_result"
    }
   ],
   "source": [
    "data['JobTitle'].value_counts().head()"
   ]
  }
 ],
 "metadata": {
  "kernelspec": {
   "display_name": "Python 3",
   "language": "python",
   "name": "python3"
  },
  "language_info": {
   "codemirror_mode": {
    "name": "ipython",
    "version": 3
   },
   "file_extension": ".py",
   "mimetype": "text/x-python",
   "name": "python",
   "nbconvert_exporter": "python",
   "pygments_lexer": "ipython3",
   "version": "3.7.12"
  },
  "papermill": {
   "default_parameters": {},
   "duration": 14.922814,
   "end_time": "2023-03-05T23:34:11.343109",
   "environment_variables": {},
   "exception": null,
   "input_path": "__notebook__.ipynb",
   "output_path": "__notebook__.ipynb",
   "parameters": {},
   "start_time": "2023-03-05T23:33:56.420295",
   "version": "2.4.0"
  }
 },
 "nbformat": 4,
 "nbformat_minor": 5
}
