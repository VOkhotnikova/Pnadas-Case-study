{
 "cells": [
  {
   "cell_type": "code",
   "execution_count": 1,
   "id": "57a1eff7",
   "metadata": {
    "execution": {
     "iopub.execute_input": "2023-03-15T10:17:53.114939Z",
     "iopub.status.busy": "2023-03-15T10:17:53.114435Z",
     "iopub.status.idle": "2023-03-15T10:17:53.125467Z",
     "shell.execute_reply": "2023-03-15T10:17:53.124145Z"
    },
    "papermill": {
     "duration": 0.030726,
     "end_time": "2023-03-15T10:17:53.128528",
     "exception": false,
     "start_time": "2023-03-15T10:17:53.097802",
     "status": "completed"
    },
    "tags": []
   },
   "outputs": [],
   "source": [
    "import numpy as np # linear algebra\n",
    "import pandas as pd # data processing, CSV file I/O (e.g. pd.read_csv)"
   ]
  },
  {
   "cell_type": "code",
   "execution_count": 2,
   "id": "038cc702",
   "metadata": {
    "execution": {
     "iopub.execute_input": "2023-03-15T10:17:53.157688Z",
     "iopub.status.busy": "2023-03-15T10:17:53.156695Z",
     "iopub.status.idle": "2023-03-15T10:17:54.526737Z",
     "shell.execute_reply": "2023-03-15T10:17:54.525275Z"
    },
    "papermill": {
     "duration": 1.388456,
     "end_time": "2023-03-15T10:17:54.530131",
     "exception": false,
     "start_time": "2023-03-15T10:17:53.141675",
     "status": "completed"
    },
    "tags": []
   },
   "outputs": [],
   "source": [
    "import seaborn as sns\n",
    "import matplotlib.pyplot as plt"
   ]
  },
  {
   "cell_type": "code",
   "execution_count": 3,
   "id": "3995ebc2",
   "metadata": {
    "execution": {
     "iopub.execute_input": "2023-03-15T10:17:54.560237Z",
     "iopub.status.busy": "2023-03-15T10:17:54.558666Z",
     "iopub.status.idle": "2023-03-15T10:17:54.635223Z",
     "shell.execute_reply": "2023-03-15T10:17:54.633841Z"
    },
    "papermill": {
     "duration": 0.094088,
     "end_time": "2023-03-15T10:17:54.638608",
     "exception": false,
     "start_time": "2023-03-15T10:17:54.544520",
     "status": "completed"
    },
    "tags": []
   },
   "outputs": [],
   "source": [
    "data = pd.read_csv('/kaggle/input/udemy-courses/udemy_courses.csv', parse_dates=['published_timestamp'])"
   ]
  },
  {
   "cell_type": "markdown",
   "id": "1b2f622f",
   "metadata": {
    "papermill": {
     "duration": 0.011812,
     "end_time": "2023-03-15T10:17:54.662696",
     "exception": false,
     "start_time": "2023-03-15T10:17:54.650884",
     "status": "completed"
    },
    "tags": []
   },
   "source": [
    "1. Display Top 10 Rows of The Dataset"
   ]
  },
  {
   "cell_type": "code",
   "execution_count": 4,
   "id": "cd058197",
   "metadata": {
    "execution": {
     "iopub.execute_input": "2023-03-15T10:17:54.690284Z",
     "iopub.status.busy": "2023-03-15T10:17:54.689215Z",
     "iopub.status.idle": "2023-03-15T10:17:54.703708Z",
     "shell.execute_reply": "2023-03-15T10:17:54.702286Z"
    },
    "papermill": {
     "duration": 0.03201,
     "end_time": "2023-03-15T10:17:54.706882",
     "exception": false,
     "start_time": "2023-03-15T10:17:54.674872",
     "status": "completed"
    },
    "tags": []
   },
   "outputs": [
    {
     "data": {
      "text/plain": [
       "course_id                            int64\n",
       "course_title                        object\n",
       "url                                 object\n",
       "is_paid                               bool\n",
       "price                                int64\n",
       "num_subscribers                      int64\n",
       "num_reviews                          int64\n",
       "num_lectures                         int64\n",
       "level                               object\n",
       "content_duration                   float64\n",
       "published_timestamp    datetime64[ns, UTC]\n",
       "subject                             object\n",
       "dtype: object"
      ]
     },
     "execution_count": 4,
     "metadata": {},
     "output_type": "execute_result"
    }
   ],
   "source": [
    "data.dtypes"
   ]
  },
  {
   "cell_type": "code",
   "execution_count": 5,
   "id": "61b2e871",
   "metadata": {
    "execution": {
     "iopub.execute_input": "2023-03-15T10:17:54.734799Z",
     "iopub.status.busy": "2023-03-15T10:17:54.734222Z",
     "iopub.status.idle": "2023-03-15T10:17:54.770272Z",
     "shell.execute_reply": "2023-03-15T10:17:54.768648Z"
    },
    "papermill": {
     "duration": 0.053928,
     "end_time": "2023-03-15T10:17:54.773754",
     "exception": false,
     "start_time": "2023-03-15T10:17:54.719826",
     "status": "completed"
    },
    "tags": []
   },
   "outputs": [
    {
     "data": {
      "text/html": [
       "<div>\n",
       "<style scoped>\n",
       "    .dataframe tbody tr th:only-of-type {\n",
       "        vertical-align: middle;\n",
       "    }\n",
       "\n",
       "    .dataframe tbody tr th {\n",
       "        vertical-align: top;\n",
       "    }\n",
       "\n",
       "    .dataframe thead th {\n",
       "        text-align: right;\n",
       "    }\n",
       "</style>\n",
       "<table border=\"1\" class=\"dataframe\">\n",
       "  <thead>\n",
       "    <tr style=\"text-align: right;\">\n",
       "      <th></th>\n",
       "      <th>course_id</th>\n",
       "      <th>course_title</th>\n",
       "      <th>url</th>\n",
       "      <th>is_paid</th>\n",
       "      <th>price</th>\n",
       "      <th>num_subscribers</th>\n",
       "      <th>num_reviews</th>\n",
       "      <th>num_lectures</th>\n",
       "      <th>level</th>\n",
       "      <th>content_duration</th>\n",
       "      <th>published_timestamp</th>\n",
       "      <th>subject</th>\n",
       "    </tr>\n",
       "  </thead>\n",
       "  <tbody>\n",
       "    <tr>\n",
       "      <th>0</th>\n",
       "      <td>1070968</td>\n",
       "      <td>Ultimate Investment Banking Course</td>\n",
       "      <td>https://www.udemy.com/ultimate-investment-bank...</td>\n",
       "      <td>True</td>\n",
       "      <td>200</td>\n",
       "      <td>2147</td>\n",
       "      <td>23</td>\n",
       "      <td>51</td>\n",
       "      <td>All Levels</td>\n",
       "      <td>1.5</td>\n",
       "      <td>2017-01-18 20:58:58+00:00</td>\n",
       "      <td>Business Finance</td>\n",
       "    </tr>\n",
       "    <tr>\n",
       "      <th>1</th>\n",
       "      <td>1113822</td>\n",
       "      <td>Complete GST Course &amp; Certification - Grow You...</td>\n",
       "      <td>https://www.udemy.com/goods-and-services-tax/</td>\n",
       "      <td>True</td>\n",
       "      <td>75</td>\n",
       "      <td>2792</td>\n",
       "      <td>923</td>\n",
       "      <td>274</td>\n",
       "      <td>All Levels</td>\n",
       "      <td>39.0</td>\n",
       "      <td>2017-03-09 16:34:20+00:00</td>\n",
       "      <td>Business Finance</td>\n",
       "    </tr>\n",
       "    <tr>\n",
       "      <th>2</th>\n",
       "      <td>1006314</td>\n",
       "      <td>Financial Modeling for Business Analysts and C...</td>\n",
       "      <td>https://www.udemy.com/financial-modeling-for-b...</td>\n",
       "      <td>True</td>\n",
       "      <td>45</td>\n",
       "      <td>2174</td>\n",
       "      <td>74</td>\n",
       "      <td>51</td>\n",
       "      <td>Intermediate Level</td>\n",
       "      <td>2.5</td>\n",
       "      <td>2016-12-19 19:26:30+00:00</td>\n",
       "      <td>Business Finance</td>\n",
       "    </tr>\n",
       "    <tr>\n",
       "      <th>3</th>\n",
       "      <td>1210588</td>\n",
       "      <td>Beginner to Pro - Financial Analysis in Excel ...</td>\n",
       "      <td>https://www.udemy.com/complete-excel-finance-c...</td>\n",
       "      <td>True</td>\n",
       "      <td>95</td>\n",
       "      <td>2451</td>\n",
       "      <td>11</td>\n",
       "      <td>36</td>\n",
       "      <td>All Levels</td>\n",
       "      <td>3.0</td>\n",
       "      <td>2017-05-30 20:07:24+00:00</td>\n",
       "      <td>Business Finance</td>\n",
       "    </tr>\n",
       "    <tr>\n",
       "      <th>4</th>\n",
       "      <td>1011058</td>\n",
       "      <td>How To Maximize Your Profits Trading Options</td>\n",
       "      <td>https://www.udemy.com/how-to-maximize-your-pro...</td>\n",
       "      <td>True</td>\n",
       "      <td>200</td>\n",
       "      <td>1276</td>\n",
       "      <td>45</td>\n",
       "      <td>26</td>\n",
       "      <td>Intermediate Level</td>\n",
       "      <td>2.0</td>\n",
       "      <td>2016-12-13 14:57:18+00:00</td>\n",
       "      <td>Business Finance</td>\n",
       "    </tr>\n",
       "    <tr>\n",
       "      <th>5</th>\n",
       "      <td>192870</td>\n",
       "      <td>Trading Penny Stocks: A Guide for All Levels I...</td>\n",
       "      <td>https://www.udemy.com/trading-penny-stocks-a-g...</td>\n",
       "      <td>True</td>\n",
       "      <td>150</td>\n",
       "      <td>9221</td>\n",
       "      <td>138</td>\n",
       "      <td>25</td>\n",
       "      <td>All Levels</td>\n",
       "      <td>3.0</td>\n",
       "      <td>2014-05-02 15:13:30+00:00</td>\n",
       "      <td>Business Finance</td>\n",
       "    </tr>\n",
       "    <tr>\n",
       "      <th>6</th>\n",
       "      <td>739964</td>\n",
       "      <td>Investing And Trading For Beginners: Mastering...</td>\n",
       "      <td>https://www.udemy.com/investing-and-trading-fo...</td>\n",
       "      <td>True</td>\n",
       "      <td>65</td>\n",
       "      <td>1540</td>\n",
       "      <td>178</td>\n",
       "      <td>26</td>\n",
       "      <td>Beginner Level</td>\n",
       "      <td>1.0</td>\n",
       "      <td>2016-02-21 18:23:12+00:00</td>\n",
       "      <td>Business Finance</td>\n",
       "    </tr>\n",
       "    <tr>\n",
       "      <th>7</th>\n",
       "      <td>403100</td>\n",
       "      <td>Trading Stock Chart Patterns For Immediate, Ex...</td>\n",
       "      <td>https://www.udemy.com/trading-chart-patterns-f...</td>\n",
       "      <td>True</td>\n",
       "      <td>95</td>\n",
       "      <td>2917</td>\n",
       "      <td>148</td>\n",
       "      <td>23</td>\n",
       "      <td>All Levels</td>\n",
       "      <td>2.5</td>\n",
       "      <td>2015-01-30 22:13:03+00:00</td>\n",
       "      <td>Business Finance</td>\n",
       "    </tr>\n",
       "    <tr>\n",
       "      <th>8</th>\n",
       "      <td>476268</td>\n",
       "      <td>Options Trading 3 : Advanced Stock Profit and ...</td>\n",
       "      <td>https://www.udemy.com/day-trading-stock-option...</td>\n",
       "      <td>True</td>\n",
       "      <td>195</td>\n",
       "      <td>5172</td>\n",
       "      <td>34</td>\n",
       "      <td>38</td>\n",
       "      <td>Expert Level</td>\n",
       "      <td>2.5</td>\n",
       "      <td>2015-05-28 00:14:03+00:00</td>\n",
       "      <td>Business Finance</td>\n",
       "    </tr>\n",
       "    <tr>\n",
       "      <th>9</th>\n",
       "      <td>1167710</td>\n",
       "      <td>The Only Investment Strategy You Need For Your...</td>\n",
       "      <td>https://www.udemy.com/the-only-investment-stra...</td>\n",
       "      <td>True</td>\n",
       "      <td>200</td>\n",
       "      <td>827</td>\n",
       "      <td>14</td>\n",
       "      <td>15</td>\n",
       "      <td>All Levels</td>\n",
       "      <td>1.0</td>\n",
       "      <td>2017-04-18 18:13:32+00:00</td>\n",
       "      <td>Business Finance</td>\n",
       "    </tr>\n",
       "  </tbody>\n",
       "</table>\n",
       "</div>"
      ],
      "text/plain": [
       "   course_id                                       course_title  \\\n",
       "0    1070968                 Ultimate Investment Banking Course   \n",
       "1    1113822  Complete GST Course & Certification - Grow You...   \n",
       "2    1006314  Financial Modeling for Business Analysts and C...   \n",
       "3    1210588  Beginner to Pro - Financial Analysis in Excel ...   \n",
       "4    1011058       How To Maximize Your Profits Trading Options   \n",
       "5     192870  Trading Penny Stocks: A Guide for All Levels I...   \n",
       "6     739964  Investing And Trading For Beginners: Mastering...   \n",
       "7     403100  Trading Stock Chart Patterns For Immediate, Ex...   \n",
       "8     476268  Options Trading 3 : Advanced Stock Profit and ...   \n",
       "9    1167710  The Only Investment Strategy You Need For Your...   \n",
       "\n",
       "                                                 url  is_paid  price  \\\n",
       "0  https://www.udemy.com/ultimate-investment-bank...     True    200   \n",
       "1      https://www.udemy.com/goods-and-services-tax/     True     75   \n",
       "2  https://www.udemy.com/financial-modeling-for-b...     True     45   \n",
       "3  https://www.udemy.com/complete-excel-finance-c...     True     95   \n",
       "4  https://www.udemy.com/how-to-maximize-your-pro...     True    200   \n",
       "5  https://www.udemy.com/trading-penny-stocks-a-g...     True    150   \n",
       "6  https://www.udemy.com/investing-and-trading-fo...     True     65   \n",
       "7  https://www.udemy.com/trading-chart-patterns-f...     True     95   \n",
       "8  https://www.udemy.com/day-trading-stock-option...     True    195   \n",
       "9  https://www.udemy.com/the-only-investment-stra...     True    200   \n",
       "\n",
       "   num_subscribers  num_reviews  num_lectures               level  \\\n",
       "0             2147           23            51          All Levels   \n",
       "1             2792          923           274          All Levels   \n",
       "2             2174           74            51  Intermediate Level   \n",
       "3             2451           11            36          All Levels   \n",
       "4             1276           45            26  Intermediate Level   \n",
       "5             9221          138            25          All Levels   \n",
       "6             1540          178            26      Beginner Level   \n",
       "7             2917          148            23          All Levels   \n",
       "8             5172           34            38        Expert Level   \n",
       "9              827           14            15          All Levels   \n",
       "\n",
       "   content_duration       published_timestamp           subject  \n",
       "0               1.5 2017-01-18 20:58:58+00:00  Business Finance  \n",
       "1              39.0 2017-03-09 16:34:20+00:00  Business Finance  \n",
       "2               2.5 2016-12-19 19:26:30+00:00  Business Finance  \n",
       "3               3.0 2017-05-30 20:07:24+00:00  Business Finance  \n",
       "4               2.0 2016-12-13 14:57:18+00:00  Business Finance  \n",
       "5               3.0 2014-05-02 15:13:30+00:00  Business Finance  \n",
       "6               1.0 2016-02-21 18:23:12+00:00  Business Finance  \n",
       "7               2.5 2015-01-30 22:13:03+00:00  Business Finance  \n",
       "8               2.5 2015-05-28 00:14:03+00:00  Business Finance  \n",
       "9               1.0 2017-04-18 18:13:32+00:00  Business Finance  "
      ]
     },
     "execution_count": 5,
     "metadata": {},
     "output_type": "execute_result"
    }
   ],
   "source": [
    "data.head(10)"
   ]
  },
  {
   "cell_type": "markdown",
   "id": "f06d40c9",
   "metadata": {
    "papermill": {
     "duration": 0.01234,
     "end_time": "2023-03-15T10:17:54.799588",
     "exception": false,
     "start_time": "2023-03-15T10:17:54.787248",
     "status": "completed"
    },
    "tags": []
   },
   "source": [
    "2. Check Last 5 Rows of The Dataset"
   ]
  },
  {
   "cell_type": "code",
   "execution_count": 6,
   "id": "7bbf098f",
   "metadata": {
    "execution": {
     "iopub.execute_input": "2023-03-15T10:17:54.827329Z",
     "iopub.status.busy": "2023-03-15T10:17:54.826763Z",
     "iopub.status.idle": "2023-03-15T10:17:54.846344Z",
     "shell.execute_reply": "2023-03-15T10:17:54.844915Z"
    },
    "papermill": {
     "duration": 0.036757,
     "end_time": "2023-03-15T10:17:54.849236",
     "exception": false,
     "start_time": "2023-03-15T10:17:54.812479",
     "status": "completed"
    },
    "tags": []
   },
   "outputs": [
    {
     "data": {
      "text/html": [
       "<div>\n",
       "<style scoped>\n",
       "    .dataframe tbody tr th:only-of-type {\n",
       "        vertical-align: middle;\n",
       "    }\n",
       "\n",
       "    .dataframe tbody tr th {\n",
       "        vertical-align: top;\n",
       "    }\n",
       "\n",
       "    .dataframe thead th {\n",
       "        text-align: right;\n",
       "    }\n",
       "</style>\n",
       "<table border=\"1\" class=\"dataframe\">\n",
       "  <thead>\n",
       "    <tr style=\"text-align: right;\">\n",
       "      <th></th>\n",
       "      <th>course_id</th>\n",
       "      <th>course_title</th>\n",
       "      <th>url</th>\n",
       "      <th>is_paid</th>\n",
       "      <th>price</th>\n",
       "      <th>num_subscribers</th>\n",
       "      <th>num_reviews</th>\n",
       "      <th>num_lectures</th>\n",
       "      <th>level</th>\n",
       "      <th>content_duration</th>\n",
       "      <th>published_timestamp</th>\n",
       "      <th>subject</th>\n",
       "    </tr>\n",
       "  </thead>\n",
       "  <tbody>\n",
       "    <tr>\n",
       "      <th>3673</th>\n",
       "      <td>775618</td>\n",
       "      <td>Learn jQuery from Scratch - Master of JavaScri...</td>\n",
       "      <td>https://www.udemy.com/easy-jquery-for-beginner...</td>\n",
       "      <td>True</td>\n",
       "      <td>100</td>\n",
       "      <td>1040</td>\n",
       "      <td>14</td>\n",
       "      <td>21</td>\n",
       "      <td>All Levels</td>\n",
       "      <td>2.0</td>\n",
       "      <td>2016-06-14 17:36:46+00:00</td>\n",
       "      <td>Web Development</td>\n",
       "    </tr>\n",
       "    <tr>\n",
       "      <th>3674</th>\n",
       "      <td>1088178</td>\n",
       "      <td>How To Design A WordPress Website With No Codi...</td>\n",
       "      <td>https://www.udemy.com/how-to-make-a-wordpress-...</td>\n",
       "      <td>True</td>\n",
       "      <td>25</td>\n",
       "      <td>306</td>\n",
       "      <td>3</td>\n",
       "      <td>42</td>\n",
       "      <td>Beginner Level</td>\n",
       "      <td>3.5</td>\n",
       "      <td>2017-03-10 22:24:30+00:00</td>\n",
       "      <td>Web Development</td>\n",
       "    </tr>\n",
       "    <tr>\n",
       "      <th>3675</th>\n",
       "      <td>635248</td>\n",
       "      <td>Learn and Build using Polymer</td>\n",
       "      <td>https://www.udemy.com/learn-and-build-using-po...</td>\n",
       "      <td>True</td>\n",
       "      <td>40</td>\n",
       "      <td>513</td>\n",
       "      <td>169</td>\n",
       "      <td>48</td>\n",
       "      <td>All Levels</td>\n",
       "      <td>3.5</td>\n",
       "      <td>2015-12-30 16:41:42+00:00</td>\n",
       "      <td>Web Development</td>\n",
       "    </tr>\n",
       "    <tr>\n",
       "      <th>3676</th>\n",
       "      <td>905096</td>\n",
       "      <td>CSS Animations: Create Amazing Effects on Your...</td>\n",
       "      <td>https://www.udemy.com/css-animations-create-am...</td>\n",
       "      <td>True</td>\n",
       "      <td>50</td>\n",
       "      <td>300</td>\n",
       "      <td>31</td>\n",
       "      <td>38</td>\n",
       "      <td>All Levels</td>\n",
       "      <td>3.0</td>\n",
       "      <td>2016-08-11 19:06:15+00:00</td>\n",
       "      <td>Web Development</td>\n",
       "    </tr>\n",
       "    <tr>\n",
       "      <th>3677</th>\n",
       "      <td>297602</td>\n",
       "      <td>Using MODX CMS to Build Websites: A Beginner's...</td>\n",
       "      <td>https://www.udemy.com/using-modx-cms-to-build-...</td>\n",
       "      <td>True</td>\n",
       "      <td>45</td>\n",
       "      <td>901</td>\n",
       "      <td>36</td>\n",
       "      <td>20</td>\n",
       "      <td>Beginner Level</td>\n",
       "      <td>2.0</td>\n",
       "      <td>2014-09-28 19:51:11+00:00</td>\n",
       "      <td>Web Development</td>\n",
       "    </tr>\n",
       "  </tbody>\n",
       "</table>\n",
       "</div>"
      ],
      "text/plain": [
       "      course_id                                       course_title  \\\n",
       "3673     775618  Learn jQuery from Scratch - Master of JavaScri...   \n",
       "3674    1088178  How To Design A WordPress Website With No Codi...   \n",
       "3675     635248                      Learn and Build using Polymer   \n",
       "3676     905096  CSS Animations: Create Amazing Effects on Your...   \n",
       "3677     297602  Using MODX CMS to Build Websites: A Beginner's...   \n",
       "\n",
       "                                                    url  is_paid  price  \\\n",
       "3673  https://www.udemy.com/easy-jquery-for-beginner...     True    100   \n",
       "3674  https://www.udemy.com/how-to-make-a-wordpress-...     True     25   \n",
       "3675  https://www.udemy.com/learn-and-build-using-po...     True     40   \n",
       "3676  https://www.udemy.com/css-animations-create-am...     True     50   \n",
       "3677  https://www.udemy.com/using-modx-cms-to-build-...     True     45   \n",
       "\n",
       "      num_subscribers  num_reviews  num_lectures           level  \\\n",
       "3673             1040           14            21      All Levels   \n",
       "3674              306            3            42  Beginner Level   \n",
       "3675              513          169            48      All Levels   \n",
       "3676              300           31            38      All Levels   \n",
       "3677              901           36            20  Beginner Level   \n",
       "\n",
       "      content_duration       published_timestamp          subject  \n",
       "3673               2.0 2016-06-14 17:36:46+00:00  Web Development  \n",
       "3674               3.5 2017-03-10 22:24:30+00:00  Web Development  \n",
       "3675               3.5 2015-12-30 16:41:42+00:00  Web Development  \n",
       "3676               3.0 2016-08-11 19:06:15+00:00  Web Development  \n",
       "3677               2.0 2014-09-28 19:51:11+00:00  Web Development  "
      ]
     },
     "execution_count": 6,
     "metadata": {},
     "output_type": "execute_result"
    }
   ],
   "source": [
    "data.tail()"
   ]
  },
  {
   "cell_type": "markdown",
   "id": "568fd60c",
   "metadata": {
    "papermill": {
     "duration": 0.012458,
     "end_time": "2023-03-15T10:17:54.874809",
     "exception": false,
     "start_time": "2023-03-15T10:17:54.862351",
     "status": "completed"
    },
    "tags": []
   },
   "source": [
    "3. Find Shape of Our Dataset (Number of Rows And Number of Columns)"
   ]
  },
  {
   "cell_type": "code",
   "execution_count": 7,
   "id": "ed10f257",
   "metadata": {
    "execution": {
     "iopub.execute_input": "2023-03-15T10:17:54.903613Z",
     "iopub.status.busy": "2023-03-15T10:17:54.902750Z",
     "iopub.status.idle": "2023-03-15T10:17:54.910950Z",
     "shell.execute_reply": "2023-03-15T10:17:54.909728Z"
    },
    "papermill": {
     "duration": 0.025687,
     "end_time": "2023-03-15T10:17:54.913397",
     "exception": false,
     "start_time": "2023-03-15T10:17:54.887710",
     "status": "completed"
    },
    "tags": []
   },
   "outputs": [
    {
     "data": {
      "text/plain": [
       "(3678, 12)"
      ]
     },
     "execution_count": 7,
     "metadata": {},
     "output_type": "execute_result"
    }
   ],
   "source": [
    "data.shape"
   ]
  },
  {
   "cell_type": "markdown",
   "id": "2d79dc84",
   "metadata": {
    "papermill": {
     "duration": 0.012692,
     "end_time": "2023-03-15T10:17:54.939229",
     "exception": false,
     "start_time": "2023-03-15T10:17:54.926537",
     "status": "completed"
    },
    "tags": []
   },
   "source": [
    "4. Getting Information About Our Dataset Like Total Number Rows, Total Number of Columns, Datatypes of Each Column And Memory Requirement"
   ]
  },
  {
   "cell_type": "code",
   "execution_count": 8,
   "id": "b3c5c46c",
   "metadata": {
    "execution": {
     "iopub.execute_input": "2023-03-15T10:17:54.968449Z",
     "iopub.status.busy": "2023-03-15T10:17:54.967576Z",
     "iopub.status.idle": "2023-03-15T10:17:54.997361Z",
     "shell.execute_reply": "2023-03-15T10:17:54.995298Z"
    },
    "papermill": {
     "duration": 0.048291,
     "end_time": "2023-03-15T10:17:55.000663",
     "exception": false,
     "start_time": "2023-03-15T10:17:54.952372",
     "status": "completed"
    },
    "tags": []
   },
   "outputs": [
    {
     "name": "stdout",
     "output_type": "stream",
     "text": [
      "<class 'pandas.core.frame.DataFrame'>\n",
      "RangeIndex: 3678 entries, 0 to 3677\n",
      "Data columns (total 12 columns):\n",
      " #   Column               Non-Null Count  Dtype              \n",
      "---  ------               --------------  -----              \n",
      " 0   course_id            3678 non-null   int64              \n",
      " 1   course_title         3678 non-null   object             \n",
      " 2   url                  3678 non-null   object             \n",
      " 3   is_paid              3678 non-null   bool               \n",
      " 4   price                3678 non-null   int64              \n",
      " 5   num_subscribers      3678 non-null   int64              \n",
      " 6   num_reviews          3678 non-null   int64              \n",
      " 7   num_lectures         3678 non-null   int64              \n",
      " 8   level                3678 non-null   object             \n",
      " 9   content_duration     3678 non-null   float64            \n",
      " 10  published_timestamp  3678 non-null   datetime64[ns, UTC]\n",
      " 11  subject              3678 non-null   object             \n",
      "dtypes: bool(1), datetime64[ns, UTC](1), float64(1), int64(5), object(4)\n",
      "memory usage: 319.8+ KB\n"
     ]
    }
   ],
   "source": [
    "data.info()"
   ]
  },
  {
   "cell_type": "markdown",
   "id": "86d62550",
   "metadata": {
    "papermill": {
     "duration": 0.012873,
     "end_time": "2023-03-15T10:17:55.026891",
     "exception": false,
     "start_time": "2023-03-15T10:17:55.014018",
     "status": "completed"
    },
    "tags": []
   },
   "source": [
    "5. Check Null Values In The Dataset"
   ]
  },
  {
   "cell_type": "code",
   "execution_count": 9,
   "id": "5f260f92",
   "metadata": {
    "execution": {
     "iopub.execute_input": "2023-03-15T10:17:55.056491Z",
     "iopub.status.busy": "2023-03-15T10:17:55.055231Z",
     "iopub.status.idle": "2023-03-15T10:17:55.065453Z",
     "shell.execute_reply": "2023-03-15T10:17:55.063661Z"
    },
    "papermill": {
     "duration": 0.028108,
     "end_time": "2023-03-15T10:17:55.068347",
     "exception": false,
     "start_time": "2023-03-15T10:17:55.040239",
     "status": "completed"
    },
    "tags": []
   },
   "outputs": [
    {
     "name": "stdout",
     "output_type": "stream",
     "text": [
      "Any missing values? False\n"
     ]
    }
   ],
   "source": [
    "print('Any missing values?', data.isnull().values.any())"
   ]
  },
  {
   "cell_type": "code",
   "execution_count": 10,
   "id": "b3cd81e2",
   "metadata": {
    "execution": {
     "iopub.execute_input": "2023-03-15T10:17:55.099481Z",
     "iopub.status.busy": "2023-03-15T10:17:55.098535Z",
     "iopub.status.idle": "2023-03-15T10:17:55.110811Z",
     "shell.execute_reply": "2023-03-15T10:17:55.109284Z"
    },
    "papermill": {
     "duration": 0.032019,
     "end_time": "2023-03-15T10:17:55.113957",
     "exception": false,
     "start_time": "2023-03-15T10:17:55.081938",
     "status": "completed"
    },
    "tags": []
   },
   "outputs": [
    {
     "data": {
      "text/plain": [
       "course_id              0\n",
       "course_title           0\n",
       "url                    0\n",
       "is_paid                0\n",
       "price                  0\n",
       "num_subscribers        0\n",
       "num_reviews            0\n",
       "num_lectures           0\n",
       "level                  0\n",
       "content_duration       0\n",
       "published_timestamp    0\n",
       "subject                0\n",
       "dtype: int64"
      ]
     },
     "execution_count": 10,
     "metadata": {},
     "output_type": "execute_result"
    }
   ],
   "source": [
    "data.isnull().sum()"
   ]
  },
  {
   "cell_type": "markdown",
   "id": "d909c4d5",
   "metadata": {
    "papermill": {
     "duration": 0.013411,
     "end_time": "2023-03-15T10:17:55.141757",
     "exception": false,
     "start_time": "2023-03-15T10:17:55.128346",
     "status": "completed"
    },
    "tags": []
   },
   "source": [
    "6. Check For Duplicate Data and Drop Them"
   ]
  },
  {
   "cell_type": "code",
   "execution_count": 11,
   "id": "c54deede",
   "metadata": {
    "execution": {
     "iopub.execute_input": "2023-03-15T10:17:55.171764Z",
     "iopub.status.busy": "2023-03-15T10:17:55.171213Z",
     "iopub.status.idle": "2023-03-15T10:17:55.192932Z",
     "shell.execute_reply": "2023-03-15T10:17:55.191346Z"
    },
    "papermill": {
     "duration": 0.041871,
     "end_time": "2023-03-15T10:17:55.197329",
     "exception": false,
     "start_time": "2023-03-15T10:17:55.155458",
     "status": "completed"
    },
    "tags": []
   },
   "outputs": [
    {
     "name": "stdout",
     "output_type": "stream",
     "text": [
      "Are there any duplicated value in data? True\n"
     ]
    }
   ],
   "source": [
    "dup=data.duplicated().any()\n",
    "print('Are there any duplicated value in data?', dup)"
   ]
  },
  {
   "cell_type": "code",
   "execution_count": 12,
   "id": "8eb2c5b3",
   "metadata": {
    "execution": {
     "iopub.execute_input": "2023-03-15T10:17:55.227598Z",
     "iopub.status.busy": "2023-03-15T10:17:55.227070Z",
     "iopub.status.idle": "2023-03-15T10:17:55.243322Z",
     "shell.execute_reply": "2023-03-15T10:17:55.241618Z"
    },
    "papermill": {
     "duration": 0.035375,
     "end_time": "2023-03-15T10:17:55.246744",
     "exception": false,
     "start_time": "2023-03-15T10:17:55.211369",
     "status": "completed"
    },
    "tags": []
   },
   "outputs": [],
   "source": [
    "data=data.drop_duplicates()"
   ]
  },
  {
   "cell_type": "code",
   "execution_count": 13,
   "id": "c22ff415",
   "metadata": {
    "execution": {
     "iopub.execute_input": "2023-03-15T10:17:55.279552Z",
     "iopub.status.busy": "2023-03-15T10:17:55.278726Z",
     "iopub.status.idle": "2023-03-15T10:17:55.293556Z",
     "shell.execute_reply": "2023-03-15T10:17:55.292019Z"
    },
    "papermill": {
     "duration": 0.035746,
     "end_time": "2023-03-15T10:17:55.297787",
     "exception": false,
     "start_time": "2023-03-15T10:17:55.262041",
     "status": "completed"
    },
    "tags": []
   },
   "outputs": [
    {
     "name": "stdout",
     "output_type": "stream",
     "text": [
      "Are there any duplicated value in data? False\n"
     ]
    }
   ],
   "source": [
    "dup=data.duplicated().any()\n",
    "print('Are there any duplicated value in data?', dup)"
   ]
  },
  {
   "cell_type": "markdown",
   "id": "bc909f7f",
   "metadata": {
    "papermill": {
     "duration": 0.013782,
     "end_time": "2023-03-15T10:17:55.325507",
     "exception": false,
     "start_time": "2023-03-15T10:17:55.311725",
     "status": "completed"
    },
    "tags": []
   },
   "source": [
    "7. Find Out Number of Courses Per Subjects"
   ]
  },
  {
   "cell_type": "code",
   "execution_count": 14,
   "id": "9acade90",
   "metadata": {
    "execution": {
     "iopub.execute_input": "2023-03-15T10:17:55.355779Z",
     "iopub.status.busy": "2023-03-15T10:17:55.355264Z",
     "iopub.status.idle": "2023-03-15T10:17:55.366516Z",
     "shell.execute_reply": "2023-03-15T10:17:55.365016Z"
    },
    "papermill": {
     "duration": 0.029482,
     "end_time": "2023-03-15T10:17:55.369328",
     "exception": false,
     "start_time": "2023-03-15T10:17:55.339846",
     "status": "completed"
    },
    "tags": []
   },
   "outputs": [
    {
     "data": {
      "text/plain": [
       "Web Development        1199\n",
       "Business Finance       1191\n",
       "Musical Instruments     680\n",
       "Graphic Design          602\n",
       "Name: subject, dtype: int64"
      ]
     },
     "execution_count": 14,
     "metadata": {},
     "output_type": "execute_result"
    }
   ],
   "source": [
    "data['subject'].value_counts()"
   ]
  },
  {
   "cell_type": "code",
   "execution_count": 15,
   "id": "479dc251",
   "metadata": {
    "execution": {
     "iopub.execute_input": "2023-03-15T10:17:55.400344Z",
     "iopub.status.busy": "2023-03-15T10:17:55.399793Z",
     "iopub.status.idle": "2023-03-15T10:17:55.700761Z",
     "shell.execute_reply": "2023-03-15T10:17:55.699301Z"
    },
    "papermill": {
     "duration": 0.321103,
     "end_time": "2023-03-15T10:17:55.704456",
     "exception": false,
     "start_time": "2023-03-15T10:17:55.383353",
     "status": "completed"
    },
    "tags": []
   },
   "outputs": [
    {
     "data": {
      "text/plain": [
       "(array([0, 1, 2, 3]),\n",
       " [Text(0, 0, 'Business Finance'),\n",
       "  Text(1, 0, 'Graphic Design'),\n",
       "  Text(2, 0, 'Musical Instruments'),\n",
       "  Text(3, 0, 'Web Development')])"
      ]
     },
     "execution_count": 15,
     "metadata": {},
     "output_type": "execute_result"
    },
    {
     "data": {
      "image/png": "[encoded data removed]",
      "text/plain": [
       "<Figure size 640x480 with 1 Axes>"
      ]
     },
     "metadata": {},
     "output_type": "display_data"
    }
   ],
   "source": [
    "sns.countplot(x=data['subject'])\n",
    "plt.xlabel('Subjects', fontsize=13)\n",
    "plt.ylabel('Number of courses per subjest', fontsize=13)\n",
    "plt.xticks(rotation=45)"
   ]
  },
  {
   "cell_type": "markdown",
   "id": "547a2feb",
   "metadata": {
    "papermill": {
     "duration": 0.013999,
     "end_time": "2023-03-15T10:17:55.733717",
     "exception": false,
     "start_time": "2023-03-15T10:17:55.719718",
     "status": "completed"
    },
    "tags": []
   },
   "source": [
    "8. For Which Levels, Udemy Courses Providing The Courses"
   ]
  },
  {
   "cell_type": "code",
   "execution_count": 16,
   "id": "536a9bcf",
   "metadata": {
    "execution": {
     "iopub.execute_input": "2023-03-15T10:17:55.765480Z",
     "iopub.status.busy": "2023-03-15T10:17:55.764301Z",
     "iopub.status.idle": "2023-03-15T10:17:55.774453Z",
     "shell.execute_reply": "2023-03-15T10:17:55.773276Z"
    },
    "papermill": {
     "duration": 0.028963,
     "end_time": "2023-03-15T10:17:55.777130",
     "exception": false,
     "start_time": "2023-03-15T10:17:55.748167",
     "status": "completed"
    },
    "tags": []
   },
   "outputs": [
    {
     "data": {
      "text/plain": [
       "All Levels            1925\n",
       "Beginner Level        1268\n",
       "Intermediate Level     421\n",
       "Expert Level            58\n",
       "Name: level, dtype: int64"
      ]
     },
     "execution_count": 16,
     "metadata": {},
     "output_type": "execute_result"
    }
   ],
   "source": [
    "data['level'].value_counts()"
   ]
  },
  {
   "cell_type": "code",
   "execution_count": 17,
   "id": "f6a9c681",
   "metadata": {
    "execution": {
     "iopub.execute_input": "2023-03-15T10:17:55.810040Z",
     "iopub.status.busy": "2023-03-15T10:17:55.809536Z",
     "iopub.status.idle": "2023-03-15T10:17:56.050637Z",
     "shell.execute_reply": "2023-03-15T10:17:56.048921Z"
    },
    "papermill": {
     "duration": 0.261385,
     "end_time": "2023-03-15T10:17:56.053969",
     "exception": false,
     "start_time": "2023-03-15T10:17:55.792584",
     "status": "completed"
    },
    "tags": []
   },
   "outputs": [
    {
     "data": {
      "image/png": "[encoded data removed]",
      "text/plain": [
       "<Figure size 640x480 with 1 Axes>"
      ]
     },
     "metadata": {},
     "output_type": "display_data"
    }
   ],
   "source": [
    "sns.countplot(x=data['level'])\n",
    "plt.xlabel('Levels', fontsize=13)\n",
    "plt.ylabel('Number of courses per level', fontsize=13)\n",
    "plt.xticks(rotation=45)\n",
    "plt.show()"
   ]
  },
  {
   "cell_type": "markdown",
   "id": "61396885",
   "metadata": {
    "papermill": {
     "duration": 0.015084,
     "end_time": "2023-03-15T10:17:56.085364",
     "exception": false,
     "start_time": "2023-03-15T10:17:56.070280",
     "status": "completed"
    },
    "tags": []
   },
   "source": [
    "9. Display The Count of Paid and Free Courses "
   ]
  },
  {
   "cell_type": "code",
   "execution_count": 18,
   "id": "b349af6b",
   "metadata": {
    "execution": {
     "iopub.execute_input": "2023-03-15T10:17:56.121669Z",
     "iopub.status.busy": "2023-03-15T10:17:56.121028Z",
     "iopub.status.idle": "2023-03-15T10:17:56.133059Z",
     "shell.execute_reply": "2023-03-15T10:17:56.131849Z"
    },
    "papermill": {
     "duration": 0.032948,
     "end_time": "2023-03-15T10:17:56.135666",
     "exception": false,
     "start_time": "2023-03-15T10:17:56.102718",
     "status": "completed"
    },
    "tags": []
   },
   "outputs": [
    {
     "data": {
      "text/plain": [
       "True     3362\n",
       "False     310\n",
       "Name: is_paid, dtype: int64"
      ]
     },
     "execution_count": 18,
     "metadata": {},
     "output_type": "execute_result"
    }
   ],
   "source": [
    "data['is_paid'].value_counts()"
   ]
  },
  {
   "cell_type": "code",
   "execution_count": 19,
   "id": "a0b45318",
   "metadata": {
    "execution": {
     "iopub.execute_input": "2023-03-15T10:17:56.170742Z",
     "iopub.status.busy": "2023-03-15T10:17:56.168984Z",
     "iopub.status.idle": "2023-03-15T10:17:56.388838Z",
     "shell.execute_reply": "2023-03-15T10:17:56.387023Z"
    },
    "papermill": {
     "duration": 0.240356,
     "end_time": "2023-03-15T10:17:56.392041",
     "exception": false,
     "start_time": "2023-03-15T10:17:56.151685",
     "status": "completed"
    },
    "tags": []
   },
   "outputs": [
    {
     "data": {
      "image/png": "[encoded data removed]",
      "text/plain": [
       "<Figure size 640x480 with 1 Axes>"
      ]
     },
     "metadata": {},
     "output_type": "display_data"
    }
   ],
   "source": [
    "sns.countplot(x=data['is_paid'])\n",
    "plt.xlabel('Paid/Free courses', fontsize=13)\n",
    "plt.ylabel('Number of courses per Paid/Free course', fontsize=13)\n",
    "plt.xticks(rotation=45)\n",
    "plt.show()"
   ]
  },
  {
   "cell_type": "markdown",
   "id": "d4ab1dc9",
   "metadata": {
    "papermill": {
     "duration": 0.01552,
     "end_time": "2023-03-15T10:17:56.424336",
     "exception": false,
     "start_time": "2023-03-15T10:17:56.408816",
     "status": "completed"
    },
    "tags": []
   },
   "source": [
    "10. Which Course Has More Lectures (Free or Paid)?"
   ]
  },
  {
   "cell_type": "code",
   "execution_count": 20,
   "id": "01cc2ac7",
   "metadata": {
    "execution": {
     "iopub.execute_input": "2023-03-15T10:17:56.459107Z",
     "iopub.status.busy": "2023-03-15T10:17:56.458524Z",
     "iopub.status.idle": "2023-03-15T10:17:56.478766Z",
     "shell.execute_reply": "2023-03-15T10:17:56.477290Z"
    },
    "papermill": {
     "duration": 0.041608,
     "end_time": "2023-03-15T10:17:56.481895",
     "exception": false,
     "start_time": "2023-03-15T10:17:56.440287",
     "status": "completed"
    },
    "tags": []
   },
   "outputs": [
    {
     "data": {
      "text/html": [
       "<div>\n",
       "<style scoped>\n",
       "    .dataframe tbody tr th:only-of-type {\n",
       "        vertical-align: middle;\n",
       "    }\n",
       "\n",
       "    .dataframe tbody tr th {\n",
       "        vertical-align: top;\n",
       "    }\n",
       "\n",
       "    .dataframe thead th {\n",
       "        text-align: right;\n",
       "    }\n",
       "</style>\n",
       "<table border=\"1\" class=\"dataframe\">\n",
       "  <thead>\n",
       "    <tr style=\"text-align: right;\">\n",
       "      <th></th>\n",
       "      <th>course_id</th>\n",
       "      <th>price</th>\n",
       "      <th>num_subscribers</th>\n",
       "      <th>num_reviews</th>\n",
       "      <th>num_lectures</th>\n",
       "      <th>content_duration</th>\n",
       "    </tr>\n",
       "    <tr>\n",
       "      <th>is_paid</th>\n",
       "      <th></th>\n",
       "      <th></th>\n",
       "      <th></th>\n",
       "      <th></th>\n",
       "      <th></th>\n",
       "      <th></th>\n",
       "    </tr>\n",
       "  </thead>\n",
       "  <tbody>\n",
       "    <tr>\n",
       "      <th>False</th>\n",
       "      <td>691446.970968</td>\n",
       "      <td>0.000000</td>\n",
       "      <td>11533.951613</td>\n",
       "      <td>425.929032</td>\n",
       "      <td>21.416129</td>\n",
       "      <td>2.210753</td>\n",
       "    </tr>\n",
       "    <tr>\n",
       "      <th>True</th>\n",
       "      <td>674463.946163</td>\n",
       "      <td>72.198096</td>\n",
       "      <td>2421.270077</td>\n",
       "      <td>131.516359</td>\n",
       "      <td>41.866746</td>\n",
       "      <td>4.271584</td>\n",
       "    </tr>\n",
       "  </tbody>\n",
       "</table>\n",
       "</div>"
      ],
      "text/plain": [
       "             course_id      price  num_subscribers  num_reviews  num_lectures  \\\n",
       "is_paid                                                                         \n",
       "False    691446.970968   0.000000     11533.951613   425.929032     21.416129   \n",
       "True     674463.946163  72.198096      2421.270077   131.516359     41.866746   \n",
       "\n",
       "         content_duration  \n",
       "is_paid                    \n",
       "False            2.210753  \n",
       "True             4.271584  "
      ]
     },
     "execution_count": 20,
     "metadata": {},
     "output_type": "execute_result"
    }
   ],
   "source": [
    "data.groupby(['is_paid']).mean()"
   ]
  },
  {
   "cell_type": "markdown",
   "id": "1e8195ec",
   "metadata": {
    "papermill": {
     "duration": 0.016141,
     "end_time": "2023-03-15T10:17:56.514118",
     "exception": false,
     "start_time": "2023-03-15T10:17:56.497977",
     "status": "completed"
    },
    "tags": []
   },
   "source": [
    "11. Which Courses Have A Higher Number of Subscribers Free or Paid?"
   ]
  },
  {
   "cell_type": "code",
   "execution_count": 21,
   "id": "afbc4f6d",
   "metadata": {
    "execution": {
     "iopub.execute_input": "2023-03-15T10:17:56.548287Z",
     "iopub.status.busy": "2023-03-15T10:17:56.547772Z",
     "iopub.status.idle": "2023-03-15T10:17:56.867409Z",
     "shell.execute_reply": "2023-03-15T10:17:56.866013Z"
    },
    "papermill": {
     "duration": 0.340037,
     "end_time": "2023-03-15T10:17:56.870108",
     "exception": false,
     "start_time": "2023-03-15T10:17:56.530071",
     "status": "completed"
    },
    "tags": []
   },
   "outputs": [
    {
     "data": {
      "text/plain": [
       "<AxesSubplot:xlabel='is_paid', ylabel='num_subscribers'>"
      ]
     },
     "execution_count": 21,
     "metadata": {},
     "output_type": "execute_result"
    },
    {
     "data": {
      "image/png": "[encoded data removed]",
      "text/plain": [
       "<Figure size 640x480 with 1 Axes>"
      ]
     },
     "metadata": {},
     "output_type": "display_data"
    }
   ],
   "source": [
    "sns.barplot(x='is_paid', y='num_subscribers', data=data)"
   ]
  },
  {
   "cell_type": "markdown",
   "id": "37bbda18",
   "metadata": {
    "papermill": {
     "duration": 0.016216,
     "end_time": "2023-03-15T10:17:56.903755",
     "exception": false,
     "start_time": "2023-03-15T10:17:56.887539",
     "status": "completed"
    },
    "tags": []
   },
   "source": [
    "12. Which Level Has The Highest Number of Subscribers?\n"
   ]
  },
  {
   "cell_type": "code",
   "execution_count": 22,
   "id": "456f9cb7",
   "metadata": {
    "execution": {
     "iopub.execute_input": "2023-03-15T10:17:56.940567Z",
     "iopub.status.busy": "2023-03-15T10:17:56.939158Z",
     "iopub.status.idle": "2023-03-15T10:17:57.319700Z",
     "shell.execute_reply": "2023-03-15T10:17:57.318329Z"
    },
    "papermill": {
     "duration": 0.402289,
     "end_time": "2023-03-15T10:17:57.322612",
     "exception": false,
     "start_time": "2023-03-15T10:17:56.920323",
     "status": "completed"
    },
    "tags": []
   },
   "outputs": [
    {
     "data": {
      "image/png": "[encoded data removed]",
      "text/plain": [
       "<Figure size 640x480 with 1 Axes>"
      ]
     },
     "metadata": {},
     "output_type": "display_data"
    }
   ],
   "source": [
    "sns.barplot(x='level', y='num_subscribers', data=data)\n",
    "plt.xticks(rotation=60)\n",
    "plt.show()"
   ]
  },
  {
   "cell_type": "markdown",
   "id": "bda0578b",
   "metadata": {
    "papermill": {
     "duration": 0.017795,
     "end_time": "2023-03-15T10:17:57.358003",
     "exception": false,
     "start_time": "2023-03-15T10:17:57.340208",
     "status": "completed"
    },
    "tags": []
   },
   "source": [
    "13. Find Most Popular Course Title"
   ]
  },
  {
   "cell_type": "code",
   "execution_count": 23,
   "id": "73ddf06a",
   "metadata": {
    "execution": {
     "iopub.execute_input": "2023-03-15T10:17:57.396174Z",
     "iopub.status.busy": "2023-03-15T10:17:57.395687Z",
     "iopub.status.idle": "2023-03-15T10:17:57.407917Z",
     "shell.execute_reply": "2023-03-15T10:17:57.406210Z"
    },
    "papermill": {
     "duration": 0.034228,
     "end_time": "2023-03-15T10:17:57.410616",
     "exception": false,
     "start_time": "2023-03-15T10:17:57.376388",
     "status": "completed"
    },
    "tags": []
   },
   "outputs": [
    {
     "data": {
      "text/plain": [
       "2827    Learn HTML5 Programming From Scratch\n",
       "Name: course_title, dtype: object"
      ]
     },
     "execution_count": 23,
     "metadata": {},
     "output_type": "execute_result"
    }
   ],
   "source": [
    "data[data['num_subscribers'].max()==data['num_subscribers']]['course_title']"
   ]
  },
  {
   "cell_type": "markdown",
   "id": "097c5fac",
   "metadata": {
    "papermill": {
     "duration": 0.017786,
     "end_time": "2023-03-15T10:17:57.445938",
     "exception": false,
     "start_time": "2023-03-15T10:17:57.428152",
     "status": "completed"
    },
    "tags": []
   },
   "source": [
    "14. Display 10 Most Popular Courses As Per Number of Subscribers"
   ]
  },
  {
   "cell_type": "code",
   "execution_count": 24,
   "id": "e7fc4ec2",
   "metadata": {
    "execution": {
     "iopub.execute_input": "2023-03-15T10:17:57.484878Z",
     "iopub.status.busy": "2023-03-15T10:17:57.483498Z",
     "iopub.status.idle": "2023-03-15T10:17:57.492070Z",
     "shell.execute_reply": "2023-03-15T10:17:57.490697Z"
    },
    "papermill": {
     "duration": 0.031515,
     "end_time": "2023-03-15T10:17:57.495221",
     "exception": false,
     "start_time": "2023-03-15T10:17:57.463706",
     "status": "completed"
    },
    "tags": []
   },
   "outputs": [],
   "source": [
    "top10=data.sort_values(by='num_subscribers', ascending=False).head(10)"
   ]
  },
  {
   "cell_type": "code",
   "execution_count": 25,
   "id": "86344968",
   "metadata": {
    "execution": {
     "iopub.execute_input": "2023-03-15T10:17:57.533699Z",
     "iopub.status.busy": "2023-03-15T10:17:57.533172Z",
     "iopub.status.idle": "2023-03-15T10:17:57.887961Z",
     "shell.execute_reply": "2023-03-15T10:17:57.886744Z"
    },
    "papermill": {
     "duration": 0.377911,
     "end_time": "2023-03-15T10:17:57.891390",
     "exception": false,
     "start_time": "2023-03-15T10:17:57.513479",
     "status": "completed"
    },
    "tags": []
   },
   "outputs": [
    {
     "data": {
      "text/plain": [
       "<AxesSubplot:xlabel='num_subscribers', ylabel='course_title'>"
      ]
     },
     "execution_count": 25,
     "metadata": {},
     "output_type": "execute_result"
    },
    {
     "data": {
      "image/png": "[encoded data removed]",
      "text/plain": [
       "<Figure size 640x480 with 1 Axes>"
      ]
     },
     "metadata": {},
     "output_type": "display_data"
    }
   ],
   "source": [
    "sns.barplot(x='num_subscribers', y='course_title', data=top10)"
   ]
  },
  {
   "cell_type": "markdown",
   "id": "5e6b5787",
   "metadata": {
    "papermill": {
     "duration": 0.018463,
     "end_time": "2023-03-15T10:17:57.929540",
     "exception": false,
     "start_time": "2023-03-15T10:17:57.911077",
     "status": "completed"
    },
    "tags": []
   },
   "source": [
    "15. Find The Course Which Is Having The Highest Number of Reviews."
   ]
  },
  {
   "cell_type": "code",
   "execution_count": 26,
   "id": "b53544b7",
   "metadata": {
    "execution": {
     "iopub.execute_input": "2023-03-15T10:17:57.969295Z",
     "iopub.status.busy": "2023-03-15T10:17:57.968757Z",
     "iopub.status.idle": "2023-03-15T10:17:58.352452Z",
     "shell.execute_reply": "2023-03-15T10:17:58.351079Z"
    },
    "papermill": {
     "duration": 0.407,
     "end_time": "2023-03-15T10:17:58.355352",
     "exception": false,
     "start_time": "2023-03-15T10:17:57.948352",
     "status": "completed"
    },
    "tags": []
   },
   "outputs": [
    {
     "data": {
      "text/plain": [
       "<AxesSubplot:xlabel='subject', ylabel='num_reviews'>"
      ]
     },
     "execution_count": 26,
     "metadata": {},
     "output_type": "execute_result"
    },
    {
     "data": {
      "image/png": "[encoded data removed]",
      "text/plain": [
       "<Figure size 1000x400 with 1 Axes>"
      ]
     },
     "metadata": {},
     "output_type": "display_data"
    }
   ],
   "source": [
    "plt.figure(figsize=(10,4))\n",
    "sns.barplot(x='subject', y='num_reviews', data=data)"
   ]
  },
  {
   "cell_type": "markdown",
   "id": "8eb862b9",
   "metadata": {
    "papermill": {
     "duration": 0.022267,
     "end_time": "2023-03-15T10:17:58.397828",
     "exception": false,
     "start_time": "2023-03-15T10:17:58.375561",
     "status": "completed"
    },
    "tags": []
   },
   "source": [
    "16. Does Price Affect the Number of Reviews?"
   ]
  },
  {
   "cell_type": "code",
   "execution_count": 27,
   "id": "7a404e00",
   "metadata": {
    "execution": {
     "iopub.execute_input": "2023-03-15T10:17:58.438215Z",
     "iopub.status.busy": "2023-03-15T10:17:58.437705Z",
     "iopub.status.idle": "2023-03-15T10:17:58.745009Z",
     "shell.execute_reply": "2023-03-15T10:17:58.743857Z"
    },
    "papermill": {
     "duration": 0.330792,
     "end_time": "2023-03-15T10:17:58.747965",
     "exception": false,
     "start_time": "2023-03-15T10:17:58.417173",
     "status": "completed"
    },
    "tags": []
   },
   "outputs": [
    {
     "data": {
      "text/plain": [
       "<AxesSubplot:xlabel='price', ylabel='num_reviews'>"
      ]
     },
     "execution_count": 27,
     "metadata": {},
     "output_type": "execute_result"
    },
    {
     "data": {
      "image/png": "[encoded data removed]",
      "text/plain": [
       "<Figure size 1500x300 with 1 Axes>"
      ]
     },
     "metadata": {},
     "output_type": "display_data"
    }
   ],
   "source": [
    "plt.figure(figsize=(15,3))\n",
    "sns.scatterplot(x='price', y='num_reviews', data=data)"
   ]
  },
  {
   "cell_type": "markdown",
   "id": "526fd887",
   "metadata": {
    "papermill": {
     "duration": 0.019626,
     "end_time": "2023-03-15T10:17:58.787243",
     "exception": false,
     "start_time": "2023-03-15T10:17:58.767617",
     "status": "completed"
    },
    "tags": []
   },
   "source": [
    "17. Find Total Number of Courses Related To Python"
   ]
  },
  {
   "cell_type": "code",
   "execution_count": 28,
   "id": "0d352671",
   "metadata": {
    "execution": {
     "iopub.execute_input": "2023-03-15T10:17:58.829585Z",
     "iopub.status.busy": "2023-03-15T10:17:58.828321Z",
     "iopub.status.idle": "2023-03-15T10:17:58.843760Z",
     "shell.execute_reply": "2023-03-15T10:17:58.842450Z"
    },
    "papermill": {
     "duration": 0.039642,
     "end_time": "2023-03-15T10:17:58.846612",
     "exception": false,
     "start_time": "2023-03-15T10:17:58.806970",
     "status": "completed"
    },
    "tags": []
   },
   "outputs": [
    {
     "data": {
      "text/plain": [
       "29"
      ]
     },
     "execution_count": 28,
     "metadata": {},
     "output_type": "execute_result"
    }
   ],
   "source": [
    "len(data[data['course_title'].str.contains('python', case=False)])"
   ]
  },
  {
   "cell_type": "markdown",
   "id": "176fd3d2",
   "metadata": {
    "papermill": {
     "duration": 0.020463,
     "end_time": "2023-03-15T10:17:58.887226",
     "exception": false,
     "start_time": "2023-03-15T10:17:58.866763",
     "status": "completed"
    },
    "tags": []
   },
   "source": [
    "18. Display 10 Most Popular Python Courses As Per Number of Subscribers"
   ]
  },
  {
   "cell_type": "code",
   "execution_count": 29,
   "id": "5a077fff",
   "metadata": {
    "execution": {
     "iopub.execute_input": "2023-03-15T10:17:58.928951Z",
     "iopub.status.busy": "2023-03-15T10:17:58.928472Z",
     "iopub.status.idle": "2023-03-15T10:17:58.942100Z",
     "shell.execute_reply": "2023-03-15T10:17:58.940474Z"
    },
    "papermill": {
     "duration": 0.038076,
     "end_time": "2023-03-15T10:17:58.945030",
     "exception": false,
     "start_time": "2023-03-15T10:17:58.906954",
     "status": "completed"
    },
    "tags": []
   },
   "outputs": [],
   "source": [
    "python=data[data['course_title'].str.contains('python', case=False)].sort_values(by='num_subscribers', ascending=False).head(10)"
   ]
  },
  {
   "cell_type": "code",
   "execution_count": 30,
   "id": "7e972405",
   "metadata": {
    "execution": {
     "iopub.execute_input": "2023-03-15T10:17:58.986797Z",
     "iopub.status.busy": "2023-03-15T10:17:58.986320Z",
     "iopub.status.idle": "2023-03-15T10:17:59.366728Z",
     "shell.execute_reply": "2023-03-15T10:17:59.365239Z"
    },
    "papermill": {
     "duration": 0.404917,
     "end_time": "2023-03-15T10:17:59.369845",
     "exception": false,
     "start_time": "2023-03-15T10:17:58.964928",
     "status": "completed"
    },
    "tags": []
   },
   "outputs": [
    {
     "data": {
      "text/plain": [
       "<AxesSubplot:xlabel='num_subscribers', ylabel='course_title'>"
      ]
     },
     "execution_count": 30,
     "metadata": {},
     "output_type": "execute_result"
    },
    {
     "data": {
      "image/png": "[encoded data removed]",
      "text/plain": [
       "<Figure size 640x480 with 1 Axes>"
      ]
     },
     "metadata": {},
     "output_type": "display_data"
    }
   ],
   "source": [
    "sns.barplot(x='num_subscribers', y='course_title', data=python)"
   ]
  },
  {
   "cell_type": "markdown",
   "id": "400430f1",
   "metadata": {
    "papermill": {
     "duration": 0.021988,
     "end_time": "2023-03-15T10:17:59.414338",
     "exception": false,
     "start_time": "2023-03-15T10:17:59.392350",
     "status": "completed"
    },
    "tags": []
   },
   "source": [
    "19. In Which Year The Highest Number of Courses Were Posted?"
   ]
  },
  {
   "cell_type": "code",
   "execution_count": 31,
   "id": "a16e3f40",
   "metadata": {
    "execution": {
     "iopub.execute_input": "2023-03-15T10:17:59.460661Z",
     "iopub.status.busy": "2023-03-15T10:17:59.460069Z",
     "iopub.status.idle": "2023-03-15T10:17:59.469003Z",
     "shell.execute_reply": "2023-03-15T10:17:59.467481Z"
    },
    "papermill": {
     "duration": 0.035354,
     "end_time": "2023-03-15T10:17:59.472061",
     "exception": false,
     "start_time": "2023-03-15T10:17:59.436707",
     "status": "completed"
    },
    "tags": []
   },
   "outputs": [],
   "source": [
    "data['Year']=data['published_timestamp'].dt.year"
   ]
  },
  {
   "cell_type": "code",
   "execution_count": 32,
   "id": "c36410d2",
   "metadata": {
    "execution": {
     "iopub.execute_input": "2023-03-15T10:17:59.518593Z",
     "iopub.status.busy": "2023-03-15T10:17:59.517613Z",
     "iopub.status.idle": "2023-03-15T10:17:59.538615Z",
     "shell.execute_reply": "2023-03-15T10:17:59.537305Z"
    },
    "papermill": {
     "duration": 0.048007,
     "end_time": "2023-03-15T10:17:59.541595",
     "exception": false,
     "start_time": "2023-03-15T10:17:59.493588",
     "status": "completed"
    },
    "tags": []
   },
   "outputs": [
    {
     "data": {
      "text/html": [
       "<div>\n",
       "<style scoped>\n",
       "    .dataframe tbody tr th:only-of-type {\n",
       "        vertical-align: middle;\n",
       "    }\n",
       "\n",
       "    .dataframe tbody tr th {\n",
       "        vertical-align: top;\n",
       "    }\n",
       "\n",
       "    .dataframe thead th {\n",
       "        text-align: right;\n",
       "    }\n",
       "</style>\n",
       "<table border=\"1\" class=\"dataframe\">\n",
       "  <thead>\n",
       "    <tr style=\"text-align: right;\">\n",
       "      <th></th>\n",
       "      <th>course_id</th>\n",
       "      <th>course_title</th>\n",
       "      <th>url</th>\n",
       "      <th>is_paid</th>\n",
       "      <th>price</th>\n",
       "      <th>num_subscribers</th>\n",
       "      <th>num_reviews</th>\n",
       "      <th>num_lectures</th>\n",
       "      <th>level</th>\n",
       "      <th>content_duration</th>\n",
       "      <th>published_timestamp</th>\n",
       "      <th>subject</th>\n",
       "      <th>Year</th>\n",
       "    </tr>\n",
       "  </thead>\n",
       "  <tbody>\n",
       "    <tr>\n",
       "      <th>0</th>\n",
       "      <td>1070968</td>\n",
       "      <td>Ultimate Investment Banking Course</td>\n",
       "      <td>https://www.udemy.com/ultimate-investment-bank...</td>\n",
       "      <td>True</td>\n",
       "      <td>200</td>\n",
       "      <td>2147</td>\n",
       "      <td>23</td>\n",
       "      <td>51</td>\n",
       "      <td>All Levels</td>\n",
       "      <td>1.5</td>\n",
       "      <td>2017-01-18 20:58:58+00:00</td>\n",
       "      <td>Business Finance</td>\n",
       "      <td>2017</td>\n",
       "    </tr>\n",
       "    <tr>\n",
       "      <th>1</th>\n",
       "      <td>1113822</td>\n",
       "      <td>Complete GST Course &amp; Certification - Grow You...</td>\n",
       "      <td>https://www.udemy.com/goods-and-services-tax/</td>\n",
       "      <td>True</td>\n",
       "      <td>75</td>\n",
       "      <td>2792</td>\n",
       "      <td>923</td>\n",
       "      <td>274</td>\n",
       "      <td>All Levels</td>\n",
       "      <td>39.0</td>\n",
       "      <td>2017-03-09 16:34:20+00:00</td>\n",
       "      <td>Business Finance</td>\n",
       "      <td>2017</td>\n",
       "    </tr>\n",
       "    <tr>\n",
       "      <th>2</th>\n",
       "      <td>1006314</td>\n",
       "      <td>Financial Modeling for Business Analysts and C...</td>\n",
       "      <td>https://www.udemy.com/financial-modeling-for-b...</td>\n",
       "      <td>True</td>\n",
       "      <td>45</td>\n",
       "      <td>2174</td>\n",
       "      <td>74</td>\n",
       "      <td>51</td>\n",
       "      <td>Intermediate Level</td>\n",
       "      <td>2.5</td>\n",
       "      <td>2016-12-19 19:26:30+00:00</td>\n",
       "      <td>Business Finance</td>\n",
       "      <td>2016</td>\n",
       "    </tr>\n",
       "    <tr>\n",
       "      <th>3</th>\n",
       "      <td>1210588</td>\n",
       "      <td>Beginner to Pro - Financial Analysis in Excel ...</td>\n",
       "      <td>https://www.udemy.com/complete-excel-finance-c...</td>\n",
       "      <td>True</td>\n",
       "      <td>95</td>\n",
       "      <td>2451</td>\n",
       "      <td>11</td>\n",
       "      <td>36</td>\n",
       "      <td>All Levels</td>\n",
       "      <td>3.0</td>\n",
       "      <td>2017-05-30 20:07:24+00:00</td>\n",
       "      <td>Business Finance</td>\n",
       "      <td>2017</td>\n",
       "    </tr>\n",
       "    <tr>\n",
       "      <th>4</th>\n",
       "      <td>1011058</td>\n",
       "      <td>How To Maximize Your Profits Trading Options</td>\n",
       "      <td>https://www.udemy.com/how-to-maximize-your-pro...</td>\n",
       "      <td>True</td>\n",
       "      <td>200</td>\n",
       "      <td>1276</td>\n",
       "      <td>45</td>\n",
       "      <td>26</td>\n",
       "      <td>Intermediate Level</td>\n",
       "      <td>2.0</td>\n",
       "      <td>2016-12-13 14:57:18+00:00</td>\n",
       "      <td>Business Finance</td>\n",
       "      <td>2016</td>\n",
       "    </tr>\n",
       "  </tbody>\n",
       "</table>\n",
       "</div>"
      ],
      "text/plain": [
       "   course_id                                       course_title  \\\n",
       "0    1070968                 Ultimate Investment Banking Course   \n",
       "1    1113822  Complete GST Course & Certification - Grow You...   \n",
       "2    1006314  Financial Modeling for Business Analysts and C...   \n",
       "3    1210588  Beginner to Pro - Financial Analysis in Excel ...   \n",
       "4    1011058       How To Maximize Your Profits Trading Options   \n",
       "\n",
       "                                                 url  is_paid  price  \\\n",
       "0  https://www.udemy.com/ultimate-investment-bank...     True    200   \n",
       "1      https://www.udemy.com/goods-and-services-tax/     True     75   \n",
       "2  https://www.udemy.com/financial-modeling-for-b...     True     45   \n",
       "3  https://www.udemy.com/complete-excel-finance-c...     True     95   \n",
       "4  https://www.udemy.com/how-to-maximize-your-pro...     True    200   \n",
       "\n",
       "   num_subscribers  num_reviews  num_lectures               level  \\\n",
       "0             2147           23            51          All Levels   \n",
       "1             2792          923           274          All Levels   \n",
       "2             2174           74            51  Intermediate Level   \n",
       "3             2451           11            36          All Levels   \n",
       "4             1276           45            26  Intermediate Level   \n",
       "\n",
       "   content_duration       published_timestamp           subject  Year  \n",
       "0               1.5 2017-01-18 20:58:58+00:00  Business Finance  2017  \n",
       "1              39.0 2017-03-09 16:34:20+00:00  Business Finance  2017  \n",
       "2               2.5 2016-12-19 19:26:30+00:00  Business Finance  2016  \n",
       "3               3.0 2017-05-30 20:07:24+00:00  Business Finance  2017  \n",
       "4               2.0 2016-12-13 14:57:18+00:00  Business Finance  2016  "
      ]
     },
     "execution_count": 32,
     "metadata": {},
     "output_type": "execute_result"
    }
   ],
   "source": [
    "data.head()"
   ]
  },
  {
   "cell_type": "code",
   "execution_count": 33,
   "id": "17ef352c",
   "metadata": {
    "execution": {
     "iopub.execute_input": "2023-03-15T10:17:59.587064Z",
     "iopub.status.busy": "2023-03-15T10:17:59.586580Z",
     "iopub.status.idle": "2023-03-15T10:17:59.845208Z",
     "shell.execute_reply": "2023-03-15T10:17:59.843626Z"
    },
    "papermill": {
     "duration": 0.285056,
     "end_time": "2023-03-15T10:17:59.848149",
     "exception": false,
     "start_time": "2023-03-15T10:17:59.563093",
     "status": "completed"
    },
    "tags": []
   },
   "outputs": [
    {
     "data": {
      "text/plain": [
       "<AxesSubplot:xlabel='Year', ylabel='count'>"
      ]
     },
     "execution_count": 33,
     "metadata": {},
     "output_type": "execute_result"
    },
    {
     "data": {
      "image/png": "[encoded data removed]",
      "text/plain": [
       "<Figure size 640x480 with 1 Axes>"
      ]
     },
     "metadata": {},
     "output_type": "display_data"
    }
   ],
   "source": [
    "sns.countplot(x='Year', data=data)"
   ]
  },
  {
   "cell_type": "markdown",
   "id": "c19f3000",
   "metadata": {
    "papermill": {
     "duration": 0.021334,
     "end_time": "2023-03-15T10:17:59.891983",
     "exception": false,
     "start_time": "2023-03-15T10:17:59.870649",
     "status": "completed"
    },
    "tags": []
   },
   "source": [
    "20. Display Category-Wise Count of Posted Subjects [Year Wise] "
   ]
  },
  {
   "cell_type": "code",
   "execution_count": 34,
   "id": "33b1a0ea",
   "metadata": {
    "execution": {
     "iopub.execute_input": "2023-03-15T10:17:59.939315Z",
     "iopub.status.busy": "2023-03-15T10:17:59.938765Z",
     "iopub.status.idle": "2023-03-15T10:17:59.954150Z",
     "shell.execute_reply": "2023-03-15T10:17:59.952799Z"
    },
    "papermill": {
     "duration": 0.04326,
     "end_time": "2023-03-15T10:17:59.957245",
     "exception": false,
     "start_time": "2023-03-15T10:17:59.913985",
     "status": "completed"
    },
    "tags": []
   },
   "outputs": [
    {
     "data": {
      "text/plain": [
       "Year  subject            \n",
       "2011  Web Development          5\n",
       "2012  Web Development         19\n",
       "      Graphic Design          10\n",
       "      Musical Instruments     10\n",
       "      Business Finance         6\n",
       "2013  Business Finance        84\n",
       "      Web Development         55\n",
       "      Musical Instruments     39\n",
       "      Graphic Design          23\n",
       "2014  Business Finance       192\n",
       "      Musical Instruments    120\n",
       "      Web Development        113\n",
       "      Graphic Design          65\n",
       "2015  Business Finance       339\n",
       "      Web Development        336\n",
       "      Musical Instruments    171\n",
       "      Graphic Design         168\n",
       "2016  Web Development        448\n",
       "      Business Finance       347\n",
       "      Musical Instruments    228\n",
       "      Graphic Design         181\n",
       "2017  Business Finance       223\n",
       "      Web Development        223\n",
       "      Graphic Design         155\n",
       "      Musical Instruments    112\n",
       "Name: subject, dtype: int64"
      ]
     },
     "execution_count": 34,
     "metadata": {},
     "output_type": "execute_result"
    }
   ],
   "source": [
    "data.groupby('Year')['subject'].value_counts()"
   ]
  },
  {
   "cell_type": "markdown",
   "id": "72c8160f",
   "metadata": {
    "papermill": {
     "duration": 0.022146,
     "end_time": "2023-03-15T10:18:00.002085",
     "exception": false,
     "start_time": "2023-03-15T10:17:59.979939",
     "status": "completed"
    },
    "tags": []
   },
   "source": [
    "21. Which are Top Selling Courses?"
   ]
  },
  {
   "cell_type": "code",
   "execution_count": 35,
   "id": "bd0c8881",
   "metadata": {
    "execution": {
     "iopub.execute_input": "2023-03-15T10:18:00.049901Z",
     "iopub.status.busy": "2023-03-15T10:18:00.048453Z",
     "iopub.status.idle": "2023-03-15T10:18:00.076146Z",
     "shell.execute_reply": "2023-03-15T10:18:00.074483Z"
    },
    "papermill": {
     "duration": 0.055798,
     "end_time": "2023-03-15T10:18:00.079975",
     "exception": false,
     "start_time": "2023-03-15T10:18:00.024177",
     "status": "completed"
    },
    "tags": []
   },
   "outputs": [
    {
     "data": {
      "text/html": [
       "<div>\n",
       "<style scoped>\n",
       "    .dataframe tbody tr th:only-of-type {\n",
       "        vertical-align: middle;\n",
       "    }\n",
       "\n",
       "    .dataframe tbody tr th {\n",
       "        vertical-align: top;\n",
       "    }\n",
       "\n",
       "    .dataframe thead th {\n",
       "        text-align: right;\n",
       "    }\n",
       "</style>\n",
       "<table border=\"1\" class=\"dataframe\">\n",
       "  <thead>\n",
       "    <tr style=\"text-align: right;\">\n",
       "      <th></th>\n",
       "      <th>course_id</th>\n",
       "      <th>course_title</th>\n",
       "      <th>url</th>\n",
       "      <th>is_paid</th>\n",
       "      <th>price</th>\n",
       "      <th>num_subscribers</th>\n",
       "      <th>num_reviews</th>\n",
       "      <th>num_lectures</th>\n",
       "      <th>level</th>\n",
       "      <th>content_duration</th>\n",
       "      <th>published_timestamp</th>\n",
       "      <th>subject</th>\n",
       "      <th>Year</th>\n",
       "    </tr>\n",
       "  </thead>\n",
       "  <tbody>\n",
       "    <tr>\n",
       "      <th>3230</th>\n",
       "      <td>625204</td>\n",
       "      <td>The Web Developer Bootcamp</td>\n",
       "      <td>https://www.udemy.com/the-web-developer-bootcamp/</td>\n",
       "      <td>True</td>\n",
       "      <td>200</td>\n",
       "      <td>121584</td>\n",
       "      <td>27445</td>\n",
       "      <td>342</td>\n",
       "      <td>All Levels</td>\n",
       "      <td>43.0</td>\n",
       "      <td>2015-11-02 21:13:27+00:00</td>\n",
       "      <td>Web Development</td>\n",
       "      <td>2015</td>\n",
       "    </tr>\n",
       "    <tr>\n",
       "      <th>3232</th>\n",
       "      <td>764164</td>\n",
       "      <td>The Complete Web Developer Course 2.0</td>\n",
       "      <td>https://www.udemy.com/the-complete-web-develop...</td>\n",
       "      <td>True</td>\n",
       "      <td>200</td>\n",
       "      <td>114512</td>\n",
       "      <td>22412</td>\n",
       "      <td>304</td>\n",
       "      <td>All Levels</td>\n",
       "      <td>30.5</td>\n",
       "      <td>2016-03-08 22:28:36+00:00</td>\n",
       "      <td>Web Development</td>\n",
       "      <td>2016</td>\n",
       "    </tr>\n",
       "    <tr>\n",
       "      <th>2619</th>\n",
       "      <td>94430</td>\n",
       "      <td>Learn Javascript &amp; JQuery From Scratch</td>\n",
       "      <td>https://www.udemy.com/learn-javascript-jquery-...</td>\n",
       "      <td>True</td>\n",
       "      <td>30</td>\n",
       "      <td>84897</td>\n",
       "      <td>2685</td>\n",
       "      <td>10</td>\n",
       "      <td>All Levels</td>\n",
       "      <td>2.0</td>\n",
       "      <td>2013-10-10 15:19:29+00:00</td>\n",
       "      <td>Web Development</td>\n",
       "      <td>2013</td>\n",
       "    </tr>\n",
       "    <tr>\n",
       "      <th>3247</th>\n",
       "      <td>364426</td>\n",
       "      <td>JavaScript: Understanding the Weird Parts</td>\n",
       "      <td>https://www.udemy.com/understand-javascript/</td>\n",
       "      <td>True</td>\n",
       "      <td>175</td>\n",
       "      <td>79612</td>\n",
       "      <td>16976</td>\n",
       "      <td>85</td>\n",
       "      <td>All Levels</td>\n",
       "      <td>11.5</td>\n",
       "      <td>2015-03-12 23:19:54+00:00</td>\n",
       "      <td>Web Development</td>\n",
       "      <td>2015</td>\n",
       "    </tr>\n",
       "    <tr>\n",
       "      <th>1979</th>\n",
       "      <td>238934</td>\n",
       "      <td>Pianoforall - Incredible New Way To Learn Pian...</td>\n",
       "      <td>https://www.udemy.com/pianoforall-incredible-n...</td>\n",
       "      <td>True</td>\n",
       "      <td>200</td>\n",
       "      <td>75499</td>\n",
       "      <td>7676</td>\n",
       "      <td>362</td>\n",
       "      <td>All Levels</td>\n",
       "      <td>30.0</td>\n",
       "      <td>2014-08-07 06:27:51+00:00</td>\n",
       "      <td>Musical Instruments</td>\n",
       "      <td>2014</td>\n",
       "    </tr>\n",
       "    <tr>\n",
       "      <th>3204</th>\n",
       "      <td>756150</td>\n",
       "      <td>Angular 4 (formerly Angular 2) - The Complete ...</td>\n",
       "      <td>https://www.udemy.com/the-complete-guide-to-an...</td>\n",
       "      <td>True</td>\n",
       "      <td>190</td>\n",
       "      <td>73783</td>\n",
       "      <td>19649</td>\n",
       "      <td>329</td>\n",
       "      <td>All Levels</td>\n",
       "      <td>22.0</td>\n",
       "      <td>2016-02-11 07:29:29+00:00</td>\n",
       "      <td>Web Development</td>\n",
       "      <td>2016</td>\n",
       "    </tr>\n",
       "    <tr>\n",
       "      <th>2701</th>\n",
       "      <td>11174</td>\n",
       "      <td>Become a Web Developer from Scratch</td>\n",
       "      <td>https://www.udemy.com/how-to-become-a-web-deve...</td>\n",
       "      <td>True</td>\n",
       "      <td>120</td>\n",
       "      <td>69186</td>\n",
       "      <td>2408</td>\n",
       "      <td>197</td>\n",
       "      <td>All Levels</td>\n",
       "      <td>27.5</td>\n",
       "      <td>2011-11-19 21:51:20+00:00</td>\n",
       "      <td>Web Development</td>\n",
       "      <td>2011</td>\n",
       "    </tr>\n",
       "    <tr>\n",
       "      <th>3246</th>\n",
       "      <td>289230</td>\n",
       "      <td>Learn and Understand AngularJS</td>\n",
       "      <td>https://www.udemy.com/learn-angularjs/</td>\n",
       "      <td>True</td>\n",
       "      <td>175</td>\n",
       "      <td>59361</td>\n",
       "      <td>11580</td>\n",
       "      <td>55</td>\n",
       "      <td>All Levels</td>\n",
       "      <td>7.0</td>\n",
       "      <td>2014-09-24 00:57:25+00:00</td>\n",
       "      <td>Web Development</td>\n",
       "      <td>2014</td>\n",
       "    </tr>\n",
       "    <tr>\n",
       "      <th>3251</th>\n",
       "      <td>461160</td>\n",
       "      <td>Learn and Understand NodeJS</td>\n",
       "      <td>https://www.udemy.com/understand-nodejs/</td>\n",
       "      <td>True</td>\n",
       "      <td>195</td>\n",
       "      <td>58208</td>\n",
       "      <td>11123</td>\n",
       "      <td>98</td>\n",
       "      <td>All Levels</td>\n",
       "      <td>13.0</td>\n",
       "      <td>2015-08-31 21:07:48+00:00</td>\n",
       "      <td>Web Development</td>\n",
       "      <td>2015</td>\n",
       "    </tr>\n",
       "    <tr>\n",
       "      <th>2662</th>\n",
       "      <td>556248</td>\n",
       "      <td>The Complete HTML &amp; CSS Course - From Novice T...</td>\n",
       "      <td>https://www.udemy.com/htmlwebsite/</td>\n",
       "      <td>True</td>\n",
       "      <td>195</td>\n",
       "      <td>57422</td>\n",
       "      <td>874</td>\n",
       "      <td>84</td>\n",
       "      <td>All Levels</td>\n",
       "      <td>7.5</td>\n",
       "      <td>2015-07-27 16:57:52+00:00</td>\n",
       "      <td>Web Development</td>\n",
       "      <td>2015</td>\n",
       "    </tr>\n",
       "  </tbody>\n",
       "</table>\n",
       "</div>"
      ],
      "text/plain": [
       "      course_id                                       course_title  \\\n",
       "3230     625204                         The Web Developer Bootcamp   \n",
       "3232     764164              The Complete Web Developer Course 2.0   \n",
       "2619      94430             Learn Javascript & JQuery From Scratch   \n",
       "3247     364426          JavaScript: Understanding the Weird Parts   \n",
       "1979     238934  Pianoforall - Incredible New Way To Learn Pian...   \n",
       "3204     756150  Angular 4 (formerly Angular 2) - The Complete ...   \n",
       "2701      11174                Become a Web Developer from Scratch   \n",
       "3246     289230                     Learn and Understand AngularJS   \n",
       "3251     461160                        Learn and Understand NodeJS   \n",
       "2662     556248  The Complete HTML & CSS Course - From Novice T...   \n",
       "\n",
       "                                                    url  is_paid  price  \\\n",
       "3230  https://www.udemy.com/the-web-developer-bootcamp/     True    200   \n",
       "3232  https://www.udemy.com/the-complete-web-develop...     True    200   \n",
       "2619  https://www.udemy.com/learn-javascript-jquery-...     True     30   \n",
       "3247       https://www.udemy.com/understand-javascript/     True    175   \n",
       "1979  https://www.udemy.com/pianoforall-incredible-n...     True    200   \n",
       "3204  https://www.udemy.com/the-complete-guide-to-an...     True    190   \n",
       "2701  https://www.udemy.com/how-to-become-a-web-deve...     True    120   \n",
       "3246             https://www.udemy.com/learn-angularjs/     True    175   \n",
       "3251           https://www.udemy.com/understand-nodejs/     True    195   \n",
       "2662                 https://www.udemy.com/htmlwebsite/     True    195   \n",
       "\n",
       "      num_subscribers  num_reviews  num_lectures       level  \\\n",
       "3230           121584        27445           342  All Levels   \n",
       "3232           114512        22412           304  All Levels   \n",
       "2619            84897         2685            10  All Levels   \n",
       "3247            79612        16976            85  All Levels   \n",
       "1979            75499         7676           362  All Levels   \n",
       "3204            73783        19649           329  All Levels   \n",
       "2701            69186         2408           197  All Levels   \n",
       "3246            59361        11580            55  All Levels   \n",
       "3251            58208        11123            98  All Levels   \n",
       "2662            57422          874            84  All Levels   \n",
       "\n",
       "      content_duration       published_timestamp              subject  Year  \n",
       "3230              43.0 2015-11-02 21:13:27+00:00      Web Development  2015  \n",
       "3232              30.5 2016-03-08 22:28:36+00:00      Web Development  2016  \n",
       "2619               2.0 2013-10-10 15:19:29+00:00      Web Development  2013  \n",
       "3247              11.5 2015-03-12 23:19:54+00:00      Web Development  2015  \n",
       "1979              30.0 2014-08-07 06:27:51+00:00  Musical Instruments  2014  \n",
       "3204              22.0 2016-02-11 07:29:29+00:00      Web Development  2016  \n",
       "2701              27.5 2011-11-19 21:51:20+00:00      Web Development  2011  \n",
       "3246               7.0 2014-09-24 00:57:25+00:00      Web Development  2014  \n",
       "3251              13.0 2015-08-31 21:07:48+00:00      Web Development  2015  \n",
       "2662               7.5 2015-07-27 16:57:52+00:00      Web Development  2015  "
      ]
     },
     "execution_count": 35,
     "metadata": {},
     "output_type": "execute_result"
    }
   ],
   "source": [
    "data[data['is_paid']==True].sort_values(by='num_subscribers', ascending=False).head(10)"
   ]
  },
  {
   "cell_type": "markdown",
   "id": "953da780",
   "metadata": {
    "papermill": {
     "duration": 0.023993,
     "end_time": "2023-03-15T10:18:00.127137",
     "exception": false,
     "start_time": "2023-03-15T10:18:00.103144",
     "status": "completed"
    },
    "tags": []
   },
   "source": [
    "22. Which are Least Selling Courses?"
   ]
  },
  {
   "cell_type": "code",
   "execution_count": 36,
   "id": "acfc3b20",
   "metadata": {
    "execution": {
     "iopub.execute_input": "2023-03-15T10:18:00.178080Z",
     "iopub.status.busy": "2023-03-15T10:18:00.176869Z",
     "iopub.status.idle": "2023-03-15T10:18:00.205691Z",
     "shell.execute_reply": "2023-03-15T10:18:00.204155Z"
    },
    "papermill": {
     "duration": 0.056792,
     "end_time": "2023-03-15T10:18:00.208626",
     "exception": false,
     "start_time": "2023-03-15T10:18:00.151834",
     "status": "completed"
    },
    "tags": []
   },
   "outputs": [
    {
     "data": {
      "text/html": [
       "<div>\n",
       "<style scoped>\n",
       "    .dataframe tbody tr th:only-of-type {\n",
       "        vertical-align: middle;\n",
       "    }\n",
       "\n",
       "    .dataframe tbody tr th {\n",
       "        vertical-align: top;\n",
       "    }\n",
       "\n",
       "    .dataframe thead th {\n",
       "        text-align: right;\n",
       "    }\n",
       "</style>\n",
       "<table border=\"1\" class=\"dataframe\">\n",
       "  <thead>\n",
       "    <tr style=\"text-align: right;\">\n",
       "      <th></th>\n",
       "      <th>course_id</th>\n",
       "      <th>course_title</th>\n",
       "      <th>url</th>\n",
       "      <th>is_paid</th>\n",
       "      <th>price</th>\n",
       "      <th>num_subscribers</th>\n",
       "      <th>num_reviews</th>\n",
       "      <th>num_lectures</th>\n",
       "      <th>level</th>\n",
       "      <th>content_duration</th>\n",
       "      <th>published_timestamp</th>\n",
       "      <th>subject</th>\n",
       "      <th>Year</th>\n",
       "    </tr>\n",
       "  </thead>\n",
       "  <tbody>\n",
       "    <tr>\n",
       "      <th>455</th>\n",
       "      <td>1282064</td>\n",
       "      <td>Cryptocurrency (BTC &amp; ETH) Investment &amp; Tradin...</td>\n",
       "      <td>https://www.udemy.com/cryptocurrency-btc-eth-i...</td>\n",
       "      <td>True</td>\n",
       "      <td>20</td>\n",
       "      <td>0</td>\n",
       "      <td>0</td>\n",
       "      <td>7</td>\n",
       "      <td>Beginner Level</td>\n",
       "      <td>2.5</td>\n",
       "      <td>2017-07-06 21:46:30+00:00</td>\n",
       "      <td>Business Finance</td>\n",
       "      <td>2017</td>\n",
       "    </tr>\n",
       "    <tr>\n",
       "      <th>1239</th>\n",
       "      <td>185528</td>\n",
       "      <td>Iníciate en Microstation</td>\n",
       "      <td>https://www.udemy.com/iniciate-en-microstation/</td>\n",
       "      <td>True</td>\n",
       "      <td>20</td>\n",
       "      <td>0</td>\n",
       "      <td>0</td>\n",
       "      <td>10</td>\n",
       "      <td>Beginner Level</td>\n",
       "      <td>1.0</td>\n",
       "      <td>2014-04-15 21:52:12+00:00</td>\n",
       "      <td>Graphic Design</td>\n",
       "      <td>2014</td>\n",
       "    </tr>\n",
       "    <tr>\n",
       "      <th>1238</th>\n",
       "      <td>1128984</td>\n",
       "      <td>Photoshop - Aprende a Transformar Imágenes</td>\n",
       "      <td>https://www.udemy.com/photoshop-aprende-a-tran...</td>\n",
       "      <td>True</td>\n",
       "      <td>20</td>\n",
       "      <td>0</td>\n",
       "      <td>0</td>\n",
       "      <td>14</td>\n",
       "      <td>Beginner Level</td>\n",
       "      <td>1.0</td>\n",
       "      <td>2017-03-08 18:05:51+00:00</td>\n",
       "      <td>Graphic Design</td>\n",
       "      <td>2017</td>\n",
       "    </tr>\n",
       "    <tr>\n",
       "      <th>785</th>\n",
       "      <td>1233302</td>\n",
       "      <td>Ratio Analysis for Financial Statements</td>\n",
       "      <td>https://www.udemy.com/ratio-analysis-financial...</td>\n",
       "      <td>True</td>\n",
       "      <td>50</td>\n",
       "      <td>0</td>\n",
       "      <td>0</td>\n",
       "      <td>6</td>\n",
       "      <td>Beginner Level</td>\n",
       "      <td>2.0</td>\n",
       "      <td>2017-07-03 21:39:57+00:00</td>\n",
       "      <td>Business Finance</td>\n",
       "      <td>2017</td>\n",
       "    </tr>\n",
       "    <tr>\n",
       "      <th>786</th>\n",
       "      <td>1231958</td>\n",
       "      <td>60 Minutes to Fundamental Accounting Skills</td>\n",
       "      <td>https://www.udemy.com/60-minute-fundamental-ac...</td>\n",
       "      <td>True</td>\n",
       "      <td>75</td>\n",
       "      <td>0</td>\n",
       "      <td>0</td>\n",
       "      <td>9</td>\n",
       "      <td>Beginner Level</td>\n",
       "      <td>2.5</td>\n",
       "      <td>2017-06-28 21:55:29+00:00</td>\n",
       "      <td>Business Finance</td>\n",
       "      <td>2017</td>\n",
       "    </tr>\n",
       "    <tr>\n",
       "      <th>1237</th>\n",
       "      <td>177614</td>\n",
       "      <td>Super Textos con Photoshop</td>\n",
       "      <td>https://www.udemy.com/super-textos-con-photoshop/</td>\n",
       "      <td>True</td>\n",
       "      <td>20</td>\n",
       "      <td>0</td>\n",
       "      <td>0</td>\n",
       "      <td>8</td>\n",
       "      <td>Beginner Level</td>\n",
       "      <td>2.0</td>\n",
       "      <td>2014-03-31 20:31:04+00:00</td>\n",
       "      <td>Graphic Design</td>\n",
       "      <td>2014</td>\n",
       "    </tr>\n",
       "    <tr>\n",
       "      <th>464</th>\n",
       "      <td>885413</td>\n",
       "      <td>Foundations of Investing</td>\n",
       "      <td>https://www.udemy.com/foundations-of-investing/</td>\n",
       "      <td>True</td>\n",
       "      <td>40</td>\n",
       "      <td>0</td>\n",
       "      <td>0</td>\n",
       "      <td>18</td>\n",
       "      <td>Beginner Level</td>\n",
       "      <td>2.0</td>\n",
       "      <td>2016-07-27 21:07:46+00:00</td>\n",
       "      <td>Business Finance</td>\n",
       "      <td>2016</td>\n",
       "    </tr>\n",
       "    <tr>\n",
       "      <th>463</th>\n",
       "      <td>1084454</td>\n",
       "      <td>CFA Level 2- Quantitative Methods</td>\n",
       "      <td>https://www.udemy.com/cfa-level-2-quantitative...</td>\n",
       "      <td>True</td>\n",
       "      <td>40</td>\n",
       "      <td>0</td>\n",
       "      <td>0</td>\n",
       "      <td>35</td>\n",
       "      <td>All Levels</td>\n",
       "      <td>5.5</td>\n",
       "      <td>2017-07-02 14:29:35+00:00</td>\n",
       "      <td>Business Finance</td>\n",
       "      <td>2017</td>\n",
       "    </tr>\n",
       "    <tr>\n",
       "      <th>784</th>\n",
       "      <td>1271182</td>\n",
       "      <td>Practical Film Financing: Finding &amp; Pitching I...</td>\n",
       "      <td>https://www.udemy.com/indiefilm-financing/</td>\n",
       "      <td>True</td>\n",
       "      <td>100</td>\n",
       "      <td>0</td>\n",
       "      <td>0</td>\n",
       "      <td>9</td>\n",
       "      <td>Beginner Level</td>\n",
       "      <td>1.0</td>\n",
       "      <td>2017-07-05 21:46:55+00:00</td>\n",
       "      <td>Business Finance</td>\n",
       "      <td>2017</td>\n",
       "    </tr>\n",
       "    <tr>\n",
       "      <th>462</th>\n",
       "      <td>1187084</td>\n",
       "      <td>Forex how traders beat the markest with little...</td>\n",
       "      <td>https://www.udemy.com/forex-how-traders-beat-t...</td>\n",
       "      <td>True</td>\n",
       "      <td>100</td>\n",
       "      <td>0</td>\n",
       "      <td>0</td>\n",
       "      <td>16</td>\n",
       "      <td>All Levels</td>\n",
       "      <td>1.0</td>\n",
       "      <td>2017-07-06 21:16:13+00:00</td>\n",
       "      <td>Business Finance</td>\n",
       "      <td>2017</td>\n",
       "    </tr>\n",
       "  </tbody>\n",
       "</table>\n",
       "</div>"
      ],
      "text/plain": [
       "      course_id                                       course_title  \\\n",
       "455     1282064  Cryptocurrency (BTC & ETH) Investment & Tradin...   \n",
       "1239     185528                           Iníciate en Microstation   \n",
       "1238    1128984         Photoshop - Aprende a Transformar Imágenes   \n",
       "785     1233302            Ratio Analysis for Financial Statements   \n",
       "786     1231958        60 Minutes to Fundamental Accounting Skills   \n",
       "1237     177614                         Super Textos con Photoshop   \n",
       "464      885413                           Foundations of Investing   \n",
       "463     1084454                  CFA Level 2- Quantitative Methods   \n",
       "784     1271182  Practical Film Financing: Finding & Pitching I...   \n",
       "462     1187084  Forex how traders beat the markest with little...   \n",
       "\n",
       "                                                    url  is_paid  price  \\\n",
       "455   https://www.udemy.com/cryptocurrency-btc-eth-i...     True     20   \n",
       "1239    https://www.udemy.com/iniciate-en-microstation/     True     20   \n",
       "1238  https://www.udemy.com/photoshop-aprende-a-tran...     True     20   \n",
       "785   https://www.udemy.com/ratio-analysis-financial...     True     50   \n",
       "786   https://www.udemy.com/60-minute-fundamental-ac...     True     75   \n",
       "1237  https://www.udemy.com/super-textos-con-photoshop/     True     20   \n",
       "464     https://www.udemy.com/foundations-of-investing/     True     40   \n",
       "463   https://www.udemy.com/cfa-level-2-quantitative...     True     40   \n",
       "784          https://www.udemy.com/indiefilm-financing/     True    100   \n",
       "462   https://www.udemy.com/forex-how-traders-beat-t...     True    100   \n",
       "\n",
       "      num_subscribers  num_reviews  num_lectures           level  \\\n",
       "455                 0            0             7  Beginner Level   \n",
       "1239                0            0            10  Beginner Level   \n",
       "1238                0            0            14  Beginner Level   \n",
       "785                 0            0             6  Beginner Level   \n",
       "786                 0            0             9  Beginner Level   \n",
       "1237                0            0             8  Beginner Level   \n",
       "464                 0            0            18  Beginner Level   \n",
       "463                 0            0            35      All Levels   \n",
       "784                 0            0             9  Beginner Level   \n",
       "462                 0            0            16      All Levels   \n",
       "\n",
       "      content_duration       published_timestamp           subject  Year  \n",
       "455                2.5 2017-07-06 21:46:30+00:00  Business Finance  2017  \n",
       "1239               1.0 2014-04-15 21:52:12+00:00    Graphic Design  2014  \n",
       "1238               1.0 2017-03-08 18:05:51+00:00    Graphic Design  2017  \n",
       "785                2.0 2017-07-03 21:39:57+00:00  Business Finance  2017  \n",
       "786                2.5 2017-06-28 21:55:29+00:00  Business Finance  2017  \n",
       "1237               2.0 2014-03-31 20:31:04+00:00    Graphic Design  2014  \n",
       "464                2.0 2016-07-27 21:07:46+00:00  Business Finance  2016  \n",
       "463                5.5 2017-07-02 14:29:35+00:00  Business Finance  2017  \n",
       "784                1.0 2017-07-05 21:46:55+00:00  Business Finance  2017  \n",
       "462                1.0 2017-07-06 21:16:13+00:00  Business Finance  2017  "
      ]
     },
     "execution_count": 36,
     "metadata": {},
     "output_type": "execute_result"
    }
   ],
   "source": [
    "data[data['is_paid']==True].sort_values(by='num_subscribers', ascending=True).head(10)"
   ]
  },
  {
   "cell_type": "markdown",
   "id": "68d9060d",
   "metadata": {
    "papermill": {
     "duration": 0.023191,
     "end_time": "2023-03-15T10:18:00.254971",
     "exception": false,
     "start_time": "2023-03-15T10:18:00.231780",
     "status": "completed"
    },
    "tags": []
   },
   "source": [
    "23. Show all courses of Graphic Design where the price is below 100?"
   ]
  },
  {
   "cell_type": "code",
   "execution_count": 37,
   "id": "67581a8f",
   "metadata": {
    "execution": {
     "iopub.execute_input": "2023-03-15T10:18:00.305598Z",
     "iopub.status.busy": "2023-03-15T10:18:00.304432Z",
     "iopub.status.idle": "2023-03-15T10:18:00.334361Z",
     "shell.execute_reply": "2023-03-15T10:18:00.333002Z"
    },
    "papermill": {
     "duration": 0.05788,
     "end_time": "2023-03-15T10:18:00.337376",
     "exception": false,
     "start_time": "2023-03-15T10:18:00.279496",
     "status": "completed"
    },
    "tags": []
   },
   "outputs": [
    {
     "data": {
      "text/html": [
       "<div>\n",
       "<style scoped>\n",
       "    .dataframe tbody tr th:only-of-type {\n",
       "        vertical-align: middle;\n",
       "    }\n",
       "\n",
       "    .dataframe tbody tr th {\n",
       "        vertical-align: top;\n",
       "    }\n",
       "\n",
       "    .dataframe thead th {\n",
       "        text-align: right;\n",
       "    }\n",
       "</style>\n",
       "<table border=\"1\" class=\"dataframe\">\n",
       "  <thead>\n",
       "    <tr style=\"text-align: right;\">\n",
       "      <th></th>\n",
       "      <th>course_id</th>\n",
       "      <th>course_title</th>\n",
       "      <th>url</th>\n",
       "      <th>is_paid</th>\n",
       "      <th>price</th>\n",
       "      <th>num_subscribers</th>\n",
       "      <th>num_reviews</th>\n",
       "      <th>num_lectures</th>\n",
       "      <th>level</th>\n",
       "      <th>content_duration</th>\n",
       "      <th>published_timestamp</th>\n",
       "      <th>subject</th>\n",
       "      <th>Year</th>\n",
       "    </tr>\n",
       "  </thead>\n",
       "  <tbody>\n",
       "    <tr>\n",
       "      <th>1196</th>\n",
       "      <td>1197206</td>\n",
       "      <td>Illustrator CC MasterClass</td>\n",
       "      <td>https://www.udemy.com/illustrator-cc-masterclass/</td>\n",
       "      <td>True</td>\n",
       "      <td>95</td>\n",
       "      <td>462</td>\n",
       "      <td>50</td>\n",
       "      <td>86</td>\n",
       "      <td>All Levels</td>\n",
       "      <td>12.0</td>\n",
       "      <td>2017-05-02 16:41:21+00:00</td>\n",
       "      <td>Graphic Design</td>\n",
       "      <td>2017</td>\n",
       "    </tr>\n",
       "    <tr>\n",
       "      <th>1198</th>\n",
       "      <td>1219520</td>\n",
       "      <td>Adobe Illustrator T-Shirt Design for Merch by ...</td>\n",
       "      <td>https://www.udemy.com/merchbyamazondesign/</td>\n",
       "      <td>True</td>\n",
       "      <td>20</td>\n",
       "      <td>390</td>\n",
       "      <td>44</td>\n",
       "      <td>15</td>\n",
       "      <td>All Levels</td>\n",
       "      <td>1.0</td>\n",
       "      <td>2017-06-13 20:41:14+00:00</td>\n",
       "      <td>Graphic Design</td>\n",
       "      <td>2017</td>\n",
       "    </tr>\n",
       "    <tr>\n",
       "      <th>1202</th>\n",
       "      <td>28556</td>\n",
       "      <td>Discover How to Draw and paint Comics</td>\n",
       "      <td>https://www.udemy.com/learn-to-draw-and-paint/</td>\n",
       "      <td>True</td>\n",
       "      <td>65</td>\n",
       "      <td>8901</td>\n",
       "      <td>424</td>\n",
       "      <td>85</td>\n",
       "      <td>All Levels</td>\n",
       "      <td>62.0</td>\n",
       "      <td>2012-11-21 22:03:54+00:00</td>\n",
       "      <td>Graphic Design</td>\n",
       "      <td>2012</td>\n",
       "    </tr>\n",
       "    <tr>\n",
       "      <th>1203</th>\n",
       "      <td>317278</td>\n",
       "      <td>Typographic Logos: Typography and Lettering fo...</td>\n",
       "      <td>https://www.udemy.com/typographic-logos-typogr...</td>\n",
       "      <td>True</td>\n",
       "      <td>25</td>\n",
       "      <td>4235</td>\n",
       "      <td>427</td>\n",
       "      <td>20</td>\n",
       "      <td>Intermediate Level</td>\n",
       "      <td>1.5</td>\n",
       "      <td>2014-10-16 19:30:01+00:00</td>\n",
       "      <td>Graphic Design</td>\n",
       "      <td>2014</td>\n",
       "    </tr>\n",
       "    <tr>\n",
       "      <th>1204</th>\n",
       "      <td>573064</td>\n",
       "      <td>Photoshop in Ease: Create World Amazing  Graph...</td>\n",
       "      <td>https://www.udemy.com/photoshop-knights-become...</td>\n",
       "      <td>True</td>\n",
       "      <td>20</td>\n",
       "      <td>14440</td>\n",
       "      <td>182</td>\n",
       "      <td>26</td>\n",
       "      <td>All Levels</td>\n",
       "      <td>3.0</td>\n",
       "      <td>2015-08-13 21:17:34+00:00</td>\n",
       "      <td>Graphic Design</td>\n",
       "      <td>2015</td>\n",
       "    </tr>\n",
       "    <tr>\n",
       "      <th>...</th>\n",
       "      <td>...</td>\n",
       "      <td>...</td>\n",
       "      <td>...</td>\n",
       "      <td>...</td>\n",
       "      <td>...</td>\n",
       "      <td>...</td>\n",
       "      <td>...</td>\n",
       "      <td>...</td>\n",
       "      <td>...</td>\n",
       "      <td>...</td>\n",
       "      <td>...</td>\n",
       "      <td>...</td>\n",
       "      <td>...</td>\n",
       "    </tr>\n",
       "    <tr>\n",
       "      <th>1793</th>\n",
       "      <td>456388</td>\n",
       "      <td>Adobe Photoshop CC | The Essential Guide</td>\n",
       "      <td>https://www.udemy.com/adobe-photoshop-cc-the-e...</td>\n",
       "      <td>True</td>\n",
       "      <td>20</td>\n",
       "      <td>254</td>\n",
       "      <td>5</td>\n",
       "      <td>81</td>\n",
       "      <td>All Levels</td>\n",
       "      <td>4.5</td>\n",
       "      <td>2015-05-12 00:19:27+00:00</td>\n",
       "      <td>Graphic Design</td>\n",
       "      <td>2015</td>\n",
       "    </tr>\n",
       "    <tr>\n",
       "      <th>1794</th>\n",
       "      <td>955242</td>\n",
       "      <td>Learn to Composite a 2D Action Shot in Photoshop</td>\n",
       "      <td>https://www.udemy.com/3dmotive-learn-to-compos...</td>\n",
       "      <td>True</td>\n",
       "      <td>20</td>\n",
       "      <td>40</td>\n",
       "      <td>2</td>\n",
       "      <td>8</td>\n",
       "      <td>Beginner Level</td>\n",
       "      <td>1.5</td>\n",
       "      <td>2016-09-10 21:38:26+00:00</td>\n",
       "      <td>Graphic Design</td>\n",
       "      <td>2016</td>\n",
       "    </tr>\n",
       "    <tr>\n",
       "      <th>1795</th>\n",
       "      <td>496430</td>\n",
       "      <td>Infographic Design: How To Create Your Own Inf...</td>\n",
       "      <td>https://www.udemy.com/infographic-design-how-t...</td>\n",
       "      <td>True</td>\n",
       "      <td>20</td>\n",
       "      <td>84</td>\n",
       "      <td>8</td>\n",
       "      <td>13</td>\n",
       "      <td>All Levels</td>\n",
       "      <td>2.0</td>\n",
       "      <td>2015-05-12 20:38:58+00:00</td>\n",
       "      <td>Graphic Design</td>\n",
       "      <td>2015</td>\n",
       "    </tr>\n",
       "    <tr>\n",
       "      <th>1796</th>\n",
       "      <td>793246</td>\n",
       "      <td>Autodesk Inventor 2016 : Complete Guide</td>\n",
       "      <td>https://www.udemy.com/learn-autodesk-inventor-...</td>\n",
       "      <td>True</td>\n",
       "      <td>20</td>\n",
       "      <td>23</td>\n",
       "      <td>4</td>\n",
       "      <td>83</td>\n",
       "      <td>Beginner Level</td>\n",
       "      <td>7.5</td>\n",
       "      <td>2016-03-22 20:35:56+00:00</td>\n",
       "      <td>Graphic Design</td>\n",
       "      <td>2016</td>\n",
       "    </tr>\n",
       "    <tr>\n",
       "      <th>1797</th>\n",
       "      <td>547190</td>\n",
       "      <td>Amazing Graphic Design for Beginners</td>\n",
       "      <td>https://www.udemy.com/amazing-graphic-design-f...</td>\n",
       "      <td>True</td>\n",
       "      <td>20</td>\n",
       "      <td>32</td>\n",
       "      <td>10</td>\n",
       "      <td>5</td>\n",
       "      <td>Beginner Level</td>\n",
       "      <td>0.7</td>\n",
       "      <td>2015-07-08 19:58:01+00:00</td>\n",
       "      <td>Graphic Design</td>\n",
       "      <td>2015</td>\n",
       "    </tr>\n",
       "  </tbody>\n",
       "</table>\n",
       "<p>484 rows × 13 columns</p>\n",
       "</div>"
      ],
      "text/plain": [
       "      course_id                                       course_title  \\\n",
       "1196    1197206                         Illustrator CC MasterClass   \n",
       "1198    1219520  Adobe Illustrator T-Shirt Design for Merch by ...   \n",
       "1202      28556              Discover How to Draw and paint Comics   \n",
       "1203     317278  Typographic Logos: Typography and Lettering fo...   \n",
       "1204     573064  Photoshop in Ease: Create World Amazing  Graph...   \n",
       "...         ...                                                ...   \n",
       "1793     456388           Adobe Photoshop CC | The Essential Guide   \n",
       "1794     955242   Learn to Composite a 2D Action Shot in Photoshop   \n",
       "1795     496430  Infographic Design: How To Create Your Own Inf...   \n",
       "1796     793246           Autodesk Inventor 2016 : Complete Guide    \n",
       "1797     547190               Amazing Graphic Design for Beginners   \n",
       "\n",
       "                                                    url  is_paid  price  \\\n",
       "1196  https://www.udemy.com/illustrator-cc-masterclass/     True     95   \n",
       "1198         https://www.udemy.com/merchbyamazondesign/     True     20   \n",
       "1202     https://www.udemy.com/learn-to-draw-and-paint/     True     65   \n",
       "1203  https://www.udemy.com/typographic-logos-typogr...     True     25   \n",
       "1204  https://www.udemy.com/photoshop-knights-become...     True     20   \n",
       "...                                                 ...      ...    ...   \n",
       "1793  https://www.udemy.com/adobe-photoshop-cc-the-e...     True     20   \n",
       "1794  https://www.udemy.com/3dmotive-learn-to-compos...     True     20   \n",
       "1795  https://www.udemy.com/infographic-design-how-t...     True     20   \n",
       "1796  https://www.udemy.com/learn-autodesk-inventor-...     True     20   \n",
       "1797  https://www.udemy.com/amazing-graphic-design-f...     True     20   \n",
       "\n",
       "      num_subscribers  num_reviews  num_lectures               level  \\\n",
       "1196              462           50            86          All Levels   \n",
       "1198              390           44            15          All Levels   \n",
       "1202             8901          424            85          All Levels   \n",
       "1203             4235          427            20  Intermediate Level   \n",
       "1204            14440          182            26          All Levels   \n",
       "...               ...          ...           ...                 ...   \n",
       "1793              254            5            81          All Levels   \n",
       "1794               40            2             8      Beginner Level   \n",
       "1795               84            8            13          All Levels   \n",
       "1796               23            4            83      Beginner Level   \n",
       "1797               32           10             5      Beginner Level   \n",
       "\n",
       "      content_duration       published_timestamp         subject  Year  \n",
       "1196              12.0 2017-05-02 16:41:21+00:00  Graphic Design  2017  \n",
       "1198               1.0 2017-06-13 20:41:14+00:00  Graphic Design  2017  \n",
       "1202              62.0 2012-11-21 22:03:54+00:00  Graphic Design  2012  \n",
       "1203               1.5 2014-10-16 19:30:01+00:00  Graphic Design  2014  \n",
       "1204               3.0 2015-08-13 21:17:34+00:00  Graphic Design  2015  \n",
       "...                ...                       ...             ...   ...  \n",
       "1793               4.5 2015-05-12 00:19:27+00:00  Graphic Design  2015  \n",
       "1794               1.5 2016-09-10 21:38:26+00:00  Graphic Design  2016  \n",
       "1795               2.0 2015-05-12 20:38:58+00:00  Graphic Design  2015  \n",
       "1796               7.5 2016-03-22 20:35:56+00:00  Graphic Design  2016  \n",
       "1797               0.7 2015-07-08 19:58:01+00:00  Graphic Design  2015  \n",
       "\n",
       "[484 rows x 13 columns]"
      ]
     },
     "execution_count": 37,
     "metadata": {},
     "output_type": "execute_result"
    }
   ],
   "source": [
    "data[(data['subject']=='Graphic Design') & (data['price']<100)]"
   ]
  }
 ],
 "metadata": {
  "kernelspec": {
   "display_name": "Python 3",
   "language": "python",
   "name": "python3"
  },
  "language_info": {
   "codemirror_mode": {
    "name": "ipython",
    "version": 3
   },
   "file_extension": ".py",
   "mimetype": "text/x-python",
   "name": "python",
   "nbconvert_exporter": "python",
   "pygments_lexer": "ipython3",
   "version": "3.7.12"
  },
  "papermill": {
   "default_parameters": {},
   "duration": 20.452381,
   "end_time": "2023-03-15T10:18:01.488759",
   "environment_variables": {},
   "exception": null,
   "input_path": "__notebook__.ipynb",
   "output_path": "__notebook__.ipynb",
   "parameters": {},
   "start_time": "2023-03-15T10:17:41.036378",
   "version": "2.4.0"
  }
 },
 "nbformat": 4,
 "nbformat_minor": 5
}
